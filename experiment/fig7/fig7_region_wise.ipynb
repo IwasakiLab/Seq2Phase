{
 "cells": [
  {
   "cell_type": "code",
   "execution_count": null,
   "id": "1070900a-98d7-4b95-9796-575ffa861054",
   "metadata": {},
   "outputs": [],
   "source": [
    "from sklearn.svm import SVC\n",
    "import pandas as pd\n",
    "import numpy as np\n",
    "from Bio import SeqIO\n",
    "from sklearn.model_selection import StratifiedKFold\n",
    "import matplotlib.pyplot as plt\n",
    "import random\n",
    "from sklearn.pipeline import make_pipeline\n",
    "from sklearn.preprocessing import StandardScaler\n",
    "from statistics import stdev, variance, mean\n",
    "from sklearn.decomposition import PCA"
   ]
  },
  {
   "cell_type": "code",
   "execution_count": null,
   "id": "b500c122-986b-403a-95fd-4edaa83f85de",
   "metadata": {},
   "outputs": [],
   "source": [
    "client_set=set()\n",
    "scaffold_set=set()\n",
    "others_set=set()\n",
    "for rec in SeqIO.parse(\"../fig1/result/drllps_client_clstr_Homo_sapiens.fasta\", \"fasta\"):\n",
    "    client_set.add(rec.id)\n",
    "for rec in SeqIO.parse(\"../fig1/result/drllps_scaffold_clstr_Homo_sapiens.fasta\", \"fasta\"):\n",
    "    scaffold_set.add(rec.id)\n",
    "for rec in SeqIO.parse(\"../fig1/result/drllps_nonllps_clstr_Homo_sapiens.fasta\", \"fasta\"):\n",
    "    others_set.add(rec.id)\n",
    "    \n",
    "mat=np.load(\"../fig2/PTT5XLU50_human.npy\", allow_pickle=True)\n",
    "mat=mat.item()\n",
    "\n",
    "list_client=[]\n",
    "list_others=[]\n",
    "list_scaffold=[]\n",
    "client_id=[]\n",
    "others_id=[]\n",
    "scaffold_id=[]\n",
    "for k in mat.keys():\n",
    "    if k in others_set:\n",
    "        list_others.append(mat[k])\n",
    "        others_id.append(k)\n",
    "    elif k in client_set:\n",
    "        list_client.append(mat[k])\n",
    "        client_id.append(k)\n",
    "    elif k in scaffold_set:\n",
    "        list_scaffold.append(mat[k])\n",
    "        scaffold_id.append(k)"
   ]
  },
  {
   "cell_type": "code",
   "execution_count": null,
   "id": "47e9bac0-e2f7-4442-b639-90b2cd29683f",
   "metadata": {},
   "outputs": [],
   "source": [
    "def under_sampling(x, y, idx):\n",
    "    x_ture=x[y==True]\n",
    "    x_false=x[y==False]\n",
    "    y_ture=y[y==True]\n",
    "    y_false=y[y==False]\n",
    "    idx_ture=idx[y==True]\n",
    "    idx_false=idx[y==False]\n",
    "    positive_n=len(y_ture)\n",
    "    negative_n=len(y_false)\n",
    "    random_index=np.random.randint(0,negative_n,positive_n)  \n",
    "    x_false_u=x_false[random_index]\n",
    "    y_false_u=y_false[random_index]\n",
    "    idx_false_u=idx_false[random_index]\n",
    "    return np.concatenate([x_ture, x_false_u]), np.concatenate([y_ture, y_false_u]), np.concatenate([idx_ture, idx_false_u])"
   ]
  },
  {
   "cell_type": "code",
   "execution_count": null,
   "id": "16a4651b-9eb3-4f35-a8ca-3a1af883271d",
   "metadata": {},
   "outputs": [],
   "source": [
    "np.random.seed(0)\n",
    "x_all=np.array(list_client+list_others)\n",
    "y_all=np.array([True]*len(list_client) + [False]*len(list_others))\n",
    "idx_all=np.array(client_id+others_id)\n",
    "x,y,idx=under_sampling(x_all,y_all,idx_all)\n",
    "model=make_pipeline(StandardScaler(), SVC(class_weight=\"balanced\", probability=True))"
   ]
  },
  {
   "cell_type": "code",
   "execution_count": null,
   "id": "7a34a1ca-e8d5-4ec3-a1fc-83b596c79c2a",
   "metadata": {},
   "outputs": [],
   "source": [
    "skf = StratifiedKFold(n_splits=5, random_state=0, shuffle=True)\n",
    "for train, test in skf.split(x,y):\n",
    "    model.fit(x[train], y[train])\n",
    "    \n",
    "    id_train=idx[train]\n",
    "    x_test=x[test]\n",
    "    y_test=y[test]\n",
    "    idx_test=idx[test]\n",
    "    x_test_t=x_test[y_test==True]\n",
    "    idx_test_t=idx_test[y_test==True]\n",
    "    \n",
    "    non_no_train=others_set - set(id_train)\n",
    "    x_no_train_f=[]\n",
    "    idx_no_tran_f=[]\n",
    "    for k in mat.keys():\n",
    "        if k in non_no_train:\n",
    "            x_no_train_f.append(mat[k])\n",
    "            idx_no_tran_f.append(k)\n",
    "    x_no_train_f=np.array(x_no_train_f)\n",
    "    \n",
    "    y_test_t_pred=model.predict_proba(x_test_t)\n",
    "    y_no_train_f_pred=model.predict_proba(x_no_train_f)\n",
    "    break"
   ]
  },
  {
   "cell_type": "code",
   "execution_count": null,
   "id": "6a41cb77-2715-4d9a-a0d5-b1aa11a49cfb",
   "metadata": {},
   "outputs": [],
   "source": [
    "f_pred_sorted_idx=np.argsort(y_no_train_f_pred[:,1])[::-1]\n",
    "t_pred_sorted_idx=np.argsort(y_test_t_pred[:,1])[::-1]\n",
    "non_id_sorted=np.array(idx_no_tran_f)[f_pred_sorted_idx]\n",
    "cli_id_sorted=idx_test_t[t_pred_sorted_idx]"
   ]
  },
  {
   "cell_type": "code",
   "execution_count": null,
   "id": "53c410ab-414a-49a5-bdf7-f895bf4e7b5a",
   "metadata": {},
   "outputs": [],
   "source": [
    "non_id_sorted=[i.split(\"|\")[1] for i in non_id_sorted]\n",
    "cli_id_sorted=[i.split(\"|\")[1] for i in cli_id_sorted]"
   ]
  },
  {
   "cell_type": "code",
   "execution_count": null,
   "id": "f8695e74-e7e7-4475-bd38-61161232d1c0",
   "metadata": {},
   "outputs": [],
   "source": [
    "non_id_sorted[:10]"
   ]
  },
  {
   "cell_type": "code",
   "execution_count": null,
   "id": "af0c0035-8377-48f9-af4f-3cdeedb3f7a8",
   "metadata": {},
   "outputs": [],
   "source": [
    "cli_id_sorted[:10]"
   ]
  },
  {
   "cell_type": "code",
   "execution_count": null,
   "id": "a885dc8e-0e7b-45c6-b8af-f42e41bb200c",
   "metadata": {},
   "outputs": [],
   "source": [
    "mat=np.load(\"data/PTT5XLU50_human_aa.npy\", allow_pickle=True)\n",
    "mat=mat.item()\n",
    "\n",
    "client_like_client_set=set(cli_id_sorted[:3])\n",
    "client_like_nonllps_set=set(non_id_sorted[:3])\n",
    "list_client_mat=[]\n",
    "list_non_mat=[]\n",
    "client_like_client=[]\n",
    "client_like_nonllps=[]\n",
    "#client_id=set(client_id[1000:])\n",
    "for k in mat.keys():\n",
    "    k_id=k.split(\"|\")[1]\n",
    "    if k_id in client_like_client_set:\n",
    "        list_client_mat.append(mat[k])\n",
    "        client_like_client.append(k_id)\n",
    "    elif k_id in client_like_nonllps_set:\n",
    "        list_non_mat.append(mat[k])\n",
    "        client_like_nonllps.append(k_id)\n",
    "del mat"
   ]
  },
  {
   "cell_type": "code",
   "execution_count": null,
   "id": "44a70a05-16c8-4677-bb9f-ed9ba87e4289",
   "metadata": {},
   "outputs": [],
   "source": [
    "def sliding_window_avg(arr, window_size):\n",
    "    if len(arr.shape) != 2:\n",
    "        raise ValueError(\"Input must be a two-dimensional array\")\n",
    "\n",
    "    if window_size > arr.shape[0]:\n",
    "        raise ValueError(\"Window size cannot be larger than the array length\")\n",
    "\n",
    "    result = np.zeros_like(arr)\n",
    "    pad_size = window_size // 2\n",
    "    for i in range(arr.shape[0]):\n",
    "        start = max(0, i - pad_size)\n",
    "        end = min(arr.shape[0], i + pad_size + 1)\n",
    "        result[i] = np.mean(arr[start:end], axis=0)\n",
    "    return result"
   ]
  },
  {
   "cell_type": "code",
   "execution_count": null,
   "id": "ff01d98d-2b30-4a06-8238-25b668dc0bb4",
   "metadata": {},
   "outputs": [],
   "source": [
    "y_arrs={}\n",
    "for mat, protein_id in zip(list_client_mat, client_like_client):\n",
    "    x_arr=sliding_window_avg(mat, 100)\n",
    "    y_arr=model.predict_proba(x_arr)\n",
    "    y_arrs[protein_id]=y_arr[:,1]\n",
    "    plt.axhline(y=0.5, linestyle='dashed', color='grey')\n",
    "    plt.plot(y_arr[:,1])\n",
    "    plt.ylim([0.2,0.8])\n",
    "    plt.ylabel(\"Client score\")\n",
    "    plt.xlabel(\"Sequence\")\n",
    "    plt.title(protein_id)\n",
    "    plt.savefig(\"result/fig7_\"+protein_id+\".pdf\")\n",
    "    plt.show()"
   ]
  },
  {
   "cell_type": "code",
   "execution_count": null,
   "id": "258bf35a-d6bd-4014-87a1-6e35a8260c58",
   "metadata": {},
   "outputs": [],
   "source": [
    "for mat, protein_id in zip(list_non_mat, client_like_nonllps):\n",
    "    x_arr=sliding_window_avg(mat, 100)\n",
    "    y_arr=model.predict_proba(x_arr)\n",
    "    y_arrs[protein_id]=y_arr[:,1]\n",
    "    plt.axhline(y=0.5, linestyle='dashed', color='grey')\n",
    "    plt.plot(y_arr[:,1])\n",
    "    plt.ylim([0.2,0.8])\n",
    "    plt.ylabel(\"Client score\")\n",
    "    plt.xlabel(\"Sequence\")\n",
    "    plt.title(protein_id)\n",
    "    plt.savefig(\"result/fig7_\"+protein_id+\".pdf\")\n",
    "    plt.show()"
   ]
  },
  {
   "cell_type": "code",
   "execution_count": null,
   "id": "fcbc4536-e9ae-4cbb-95a0-8acfbc571bc6",
   "metadata": {},
   "outputs": [],
   "source": [
    "for k in y_arrs:\n",
    "    indices = np.where(y_arrs[k] >= 0.5)\n",
    "    indices_1=[i+1 for i in indices[0]]\n",
    "    start=indices_1[0]\n",
    "    j=indices_1[0]\n",
    "    s=str(start)\n",
    "    for i in indices_1:\n",
    "        if i == start:\n",
    "            continue\n",
    "        if j+1 == i:\n",
    "            j=i\n",
    "            continue\n",
    "        elif start==j:\n",
    "            s=s+\"+\"+str(j)+\"+\"+str(i)\n",
    "            start=i\n",
    "            j=i\n",
    "        else:\n",
    "            s=s+\"-\"+str(j)+\"+\"+str(i)\n",
    "            start=i\n",
    "            j=i\n",
    "    if start==j:\n",
    "        s=s+\"+\"+str(j)\n",
    "        start=i\n",
    "        j=i\n",
    "    else:\n",
    "        s=s+\"-\"+str(j)\n",
    "        start=i\n",
    "        j=i\n",
    "    print(k)\n",
    "    print(s)"
   ]
  },
  {
   "cell_type": "code",
   "execution_count": null,
   "id": "9d6417a7-2be4-4fc1-a877-d93fa64cf408",
   "metadata": {},
   "outputs": [],
   "source": []
  }
 ],
 "metadata": {
  "kernelspec": {
   "display_name": "Python 3 (ipykernel)",
   "language": "python",
   "name": "python3"
  },
  "language_info": {
   "codemirror_mode": {
    "name": "ipython",
    "version": 3
   },
   "file_extension": ".py",
   "mimetype": "text/x-python",
   "name": "python",
   "nbconvert_exporter": "python",
   "pygments_lexer": "ipython3",
   "version": "3.9.12"
  }
 },
 "nbformat": 4,
 "nbformat_minor": 5
}
