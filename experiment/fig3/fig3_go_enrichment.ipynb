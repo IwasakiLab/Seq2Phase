{
 "cells": [
  {
   "cell_type": "code",
   "execution_count": null,
   "id": "4134c608-16dc-42de-a2c1-748e2607abbd",
   "metadata": {},
   "outputs": [],
   "source": [
    "import pandas as pd\n",
    "import matplotlib.pyplot as plt\n",
    "import seaborn as sns"
   ]
  },
  {
   "cell_type": "code",
   "execution_count": null,
   "id": "bbc078b7-b7dd-418f-9c75-fa38c647f1bc",
   "metadata": {},
   "outputs": [],
   "source": [
    "client=pd.read_table(\"result/client_go.txt\", index_col=0)\n",
    "fp=pd.read_table(\"result/fp_cc_go.txt\", index_col=0)"
   ]
  },
  {
   "cell_type": "code",
   "execution_count": null,
   "id": "941308f4-6069-42aa-a796-38c9021bbec4",
   "metadata": {},
   "outputs": [],
   "source": [
    "with open(\"data/mlo_go_PhaSepDB.txt\", \"r\") as f: \n",
    "    mlo_term=set(f.read().split(\"\\n\"))\n",
    "    mlo_term.remove(\"\")"
   ]
  },
  {
   "cell_type": "code",
   "execution_count": null,
   "id": "dd151239-4351-4d79-854e-502a2d943035",
   "metadata": {},
   "outputs": [],
   "source": [
    "fp_term=set(fp.index)\n",
    "client_term=set(client.index)"
   ]
  },
  {
   "cell_type": "code",
   "execution_count": null,
   "id": "f94ff170-08fb-4191-9287-8c52e6a78c60",
   "metadata": {},
   "outputs": [],
   "source": [
    "terms=set([x.split()[-1] for x in mlo_term])&fp_term&client_term"
   ]
  },
  {
   "cell_type": "code",
   "execution_count": null,
   "id": "1ab44eea-aa87-4d89-a661-2776694f7796",
   "metadata": {},
   "outputs": [],
   "source": [
    "import math\n",
    "def process_df(df:pd.DataFrame):\n",
    "    for i in df.index:\n",
    "        r_in_study=df.at[i,\"ratio_in_study\"].split(\"/\")\n",
    "        r_in_pop=df.at[i,\"ratio_in_pop\"].split(\"/\")\n",
    "        study_n=float(r_in_study[0])\n",
    "        study_all=float(r_in_study[1])\n",
    "        pop_n=float(r_in_pop[0])\n",
    "        pop_all=float(r_in_pop[1])\n",
    "        study=study_n/(study_all-study_n)\n",
    "        pop=(pop_n-study_n)/((pop_all-study_all)-(pop_n-study_n))\n",
    "        p=float(df.at[i,\"p_fdr_bh\"])\n",
    "        if p>0.05:\n",
    "            signif=\"N.S.\"\n",
    "        elif p>0.01:\n",
    "            signif=\"*\"\n",
    "        elif p>0.001:\n",
    "            signif=\"**\"\n",
    "        else:\n",
    "            signif=\"***\"\n",
    "        if study!=0 and pop!=0:\n",
    "            fold=math.log2(study/pop)\n",
    "        else:\n",
    "            fold=math.nan\n",
    "        df.at[i,\"odds_ratio\"]=fold\n",
    "        df.at[i,\"significance\"]=signif\n",
    "    return df"
   ]
  },
  {
   "cell_type": "code",
   "execution_count": null,
   "id": "09dcd83f-f670-4b91-935e-21f95fddb693",
   "metadata": {},
   "outputs": [],
   "source": [
    "client_processed=process_df(client.loc[[x.split()[-1] for x in terms], :])"
   ]
  },
  {
   "cell_type": "code",
   "execution_count": null,
   "id": "b8d2d575-d2aa-4bb9-a132-15351551d0dd",
   "metadata": {},
   "outputs": [],
   "source": [
    "fp_processed=process_df(fp.loc[[x.split()[-1] for x in terms], :])"
   ]
  },
  {
   "cell_type": "code",
   "execution_count": null,
   "id": "f6830f64-7ea2-4c0e-8bbe-145dee9f6af4",
   "metadata": {},
   "outputs": [],
   "source": [
    "client_processed[\"class\"]=\"Known client\"\n",
    "fp_processed[\"class\"]=\"Predicted client\""
   ]
  },
  {
   "cell_type": "code",
   "execution_count": null,
   "id": "7df8bde8-5976-4e5b-ad1e-97a0a2f08894",
   "metadata": {},
   "outputs": [],
   "source": [
    "client_processed_s=client_processed.sort_values(\"p_fdr_bh\")"
   ]
  },
  {
   "cell_type": "code",
   "execution_count": null,
   "id": "082c9e5b-a5f4-4158-99be-49e8cf5cc122",
   "metadata": {},
   "outputs": [],
   "source": [
    "fig = plt.figure(figsize=(10,6))\n",
    "ax = fig.add_subplot(111)\n",
    "sns.barplot(data=pd.concat([client_processed_s,fp_processed]), y=\"name\", x=\"odds_ratio\", hue=\"class\", zorder=2, palette=[\"orangered\", \"gold\"])\n",
    "#plt.xlim([-5,5])\n",
    "plt.grid(zorder=1)\n",
    "ax.axvline(c=\"black\")\n",
    "ax.axhline(20.5,c=\"black\", lw=1.2, linestyle=\"--\")\n",
    "plt.text(1,20.3,\"↑\",fontsize=20)\n",
    "plt.text(1.3,18,\"Significant enrichment\",fontsize=12)\n",
    "plt.text(1.3,19.3,\"for known clients\",fontsize=12)\n",
    "for n,i in enumerate(client_processed_s.index):\n",
    "    cli_sig=client_processed_s.at[i, \"significance\"]\n",
    "    cli_x=client_processed_s.at[i, \"odds_ratio\"]\n",
    "    fp_sig=fp_processed.at[i, \"significance\"]\n",
    "    fp_x=fp_processed.at[i, \"odds_ratio\"]\n",
    "    if cli_x<0:\n",
    "        plt.text(cli_x-0.3,n,cli_sig,fontsize=6.5)\n",
    "    else:\n",
    "        plt.text(cli_x+0.1,n,cli_sig,fontsize=6.5)\n",
    "    if fp_x<0:\n",
    "        plt.text(fp_x-0.3,n+0.5,fp_sig,fontsize=6.5)\n",
    "    else:\n",
    "        plt.text(fp_x+0.1,n+0.5,fp_sig,fontsize=6.5)\n",
    "#plt.plot([0,0], [0,34],color=\"green\")\n",
    "plt.xlabel(\"Enrichment: $log_{2}$(odds ratio)\", fontsize=13)\n",
    "plt.ylabel(\"GO terms associated with membraneless organelle\", fontsize=13)\n",
    "plt.legend(title = None, loc=\"upper left\")\n",
    "plt.tight_layout()\n",
    "plt.savefig(\"result/fig3.pdf\")\n",
    "plt.show()"
   ]
  },
  {
   "cell_type": "code",
   "execution_count": null,
   "id": "bb38d9dd-f9ae-488f-8b20-ed9c77fad5ab",
   "metadata": {},
   "outputs": [],
   "source": []
  }
 ],
 "metadata": {
  "kernelspec": {
   "display_name": "Python 3 (ipykernel)",
   "language": "python",
   "name": "python3"
  },
  "language_info": {
   "codemirror_mode": {
    "name": "ipython",
    "version": 3
   },
   "file_extension": ".py",
   "mimetype": "text/x-python",
   "name": "python",
   "nbconvert_exporter": "python",
   "pygments_lexer": "ipython3",
   "version": "3.9.12"
  }
 },
 "nbformat": 4,
 "nbformat_minor": 5
}
