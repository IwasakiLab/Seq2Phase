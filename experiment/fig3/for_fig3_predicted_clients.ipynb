{
 "cells": [
  {
   "cell_type": "markdown",
   "id": "04625ebe-c97b-4d99-b69e-4f5723137c7d",
   "metadata": {},
   "source": [
    "## Dependencies\n",
    "- [goatools](https://github.com/tanghaibao/goatools)\n",
    "- [go-basic.obo](http://geneontology.org/ontology/go-basic.obo)\n",
    "- [Human GO annotation file](http://current.geneontology.org/annotations/goa_human.gaf.gz)"
   ]
  },
  {
   "cell_type": "code",
   "execution_count": null,
   "id": "d5e5fc4e-6216-4ead-8220-f2b476804246",
   "metadata": {},
   "outputs": [],
   "source": [
    "import numpy as np\n",
    "import pandas as pd \n",
    "import umap\n",
    "import matplotlib.pyplot as plt\n",
    "from Bio import SeqIO\n",
    "from sklearn.model_selection import StratifiedKFold\n",
    "from sklearn.svm import SVC\n",
    "from sklearn.pipeline import make_pipeline\n",
    "from sklearn.preprocessing import StandardScaler"
   ]
  },
  {
   "cell_type": "code",
   "execution_count": null,
   "id": "533504ec-55dc-402a-b4c4-26a0dd2222fc",
   "metadata": {},
   "outputs": [],
   "source": [
    "client_set=set(SeqIO.index(\"../fig1/result/drllps_client_clstr_Homo_sapiens.fasta\", \"fasta\").keys())\n",
    "scaffold_set=set(SeqIO.index(\"../fig1/result/drllps_scaffold_clstr_Homo_sapiens.fasta\", \"fasta\").keys())\n",
    "nonllps_set=set(SeqIO.index(\"../fig1/result/drllps_nonllps_clstr_Homo_sapiens.fasta\", \"fasta\").keys())\n",
    "    \n",
    "mat=np.load(\"../fig2/PTT5XLU50_human.npy\", allow_pickle=True)\n",
    "mat=mat.item()\n",
    "\n",
    "list_client=[]\n",
    "list_nonllps=[]\n",
    "list_scaffold=[]\n",
    "client_id=[]\n",
    "scaffold_id=[]\n",
    "nonllps_id=[]\n",
    "for k in mat.keys():\n",
    "    if k in nonllps_set:\n",
    "        list_nonllps.append(mat[k])\n",
    "        nonllps_id.append(k)\n",
    "    elif k in client_set:\n",
    "        list_client.append(mat[k])\n",
    "        client_id.append(k)\n",
    "    elif k in scaffold_set:\n",
    "        list_scaffold.append(mat[k])\n",
    "        scaffold_id.append(k)"
   ]
  },
  {
   "cell_type": "code",
   "execution_count": null,
   "id": "cacedb0d-7986-4d7b-937b-5dd7fc29eb2b",
   "metadata": {},
   "outputs": [],
   "source": [
    "x = np.array(list_client + list_nonllps)\n",
    "y = np.array([True]*len(list_client) + [False]*len(list_nonllps))\n",
    "ids = np.array(client_id + nonllps_id)"
   ]
  },
  {
   "cell_type": "code",
   "execution_count": null,
   "id": "27a4ce60-fa44-4d13-b134-df53f597e86a",
   "metadata": {},
   "outputs": [],
   "source": [
    "cv=StratifiedKFold(n_splits=5, shuffle=True, random_state=0)\n",
    "y_tests=[]\n",
    "y_preds=[]\n",
    "y_fp=[]\n",
    "for train,test in cv.split(x, y):\n",
    "    model=make_pipeline(StandardScaler(), SVC(class_weight=\"balanced\", probability=True))\n",
    "    model.fit(x[train],y[train])\n",
    "    y_pred_p=model.predict_proba(x[test])[:,1]\n",
    "    y_pred=model.predict(x[test])\n",
    "    y_tests.append(y[test])\n",
    "    y_preds.append(y_pred)\n",
    "    y_pred_f=y_pred[y[test]==False]\n",
    "    y_fp.append(ids[test][y[test]==False][y_pred_f==True])"
   ]
  },
  {
   "cell_type": "code",
   "execution_count": null,
   "id": "4f9ecf13-b5f3-4468-bddd-ab50e3f5e2ab",
   "metadata": {},
   "outputs": [],
   "source": [
    "with open(\"data/fp_id.txt\", \"w\") as f:\n",
    "    for cv in y_fp:\n",
    "        for i in cv:\n",
    "            uni=i.split(\"|\")[1]\n",
    "            f.write(uni+\"\\n\")"
   ]
  },
  {
   "cell_type": "code",
   "execution_count": null,
   "id": "7cde87aa-8e9d-492e-ab13-8b6d2fb223db",
   "metadata": {},
   "outputs": [],
   "source": [
    "with open(\"../result/fp_id_fullid.txt\", \"w\") as f:\n",
    "    for cv in y_fp:\n",
    "        for i in cv:\n",
    "            f.write(i+\"\\n\")"
   ]
  },
  {
   "cell_type": "code",
   "execution_count": null,
   "id": "725578f9-3894-49f1-8121-c9c8d0068ebe",
   "metadata": {},
   "outputs": [],
   "source": [
    "with open(\"data/human_client.txt\", \"w\") as f:\n",
    "    for name in client_set:\n",
    "        uni=name.split(\"|\")[1]\n",
    "        f.write(uni+\"\\n\")\n",
    "with open(\"data/human_nonllps.txt\", \"w\") as f:\n",
    "    for name in nonllps_set:\n",
    "        uni=name.split(\"|\")[1]\n",
    "        f.write(uni+\"\\n\")\n",
    "with open(\"data/human_client_nonllps.txt\", \"w\") as f:\n",
    "    for name in nonllps_set:\n",
    "        uni=name.split(\"|\")[1]\n",
    "        f.write(uni+\"\\n\")\n",
    "    for name in client_set:\n",
    "        uni=name.split(\"|\")[1]\n",
    "        f.write(uni+\"\\n\")"
   ]
  },
  {
   "cell_type": "code",
   "execution_count": null,
   "id": "70fe75bc-ab79-4d86-a5cd-7c3af3be3198",
   "metadata": {},
   "outputs": [],
   "source": [
    "!find_enrichment.py data/fp_id.txt data/human_nonllps.txt data/goa_human.gaf --pval=-1 --method=fdr_bh --pval_field=fdr_bh --outfile=result/fp_cc_go.txt --ns=CC\n",
    "!find_enrichment.py data/human_client.txt data/human_client_nonllps.txt data/goa_human.gaf --pval=-1 --method=fdr_bh --pval_field=fdr_bh --outfile=result/client_go.txt --ns=CC"
   ]
  }
 ],
 "metadata": {
  "kernelspec": {
   "display_name": "Python 3 (ipykernel)",
   "language": "python",
   "name": "python3"
  },
  "language_info": {
   "codemirror_mode": {
    "name": "ipython",
    "version": 3
   },
   "file_extension": ".py",
   "mimetype": "text/x-python",
   "name": "python",
   "nbconvert_exporter": "python",
   "pygments_lexer": "ipython3",
   "version": "3.9.12"
  }
 },
 "nbformat": 4,
 "nbformat_minor": 5
}
