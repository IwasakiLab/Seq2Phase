{
 "cells": [
  {
   "cell_type": "code",
   "execution_count": null,
   "id": "5dbd4bbc-bc97-4bbe-ad2f-61520b916628",
   "metadata": {},
   "outputs": [],
   "source": [
    "import numpy as np\n",
    "import pandas as pd \n",
    "import umap\n",
    "import matplotlib.pyplot as plt\n",
    "from sklearn.preprocessing import StandardScaler\n",
    "from Bio import SeqIO\n",
    "import seaborn as sns"
   ]
  },
  {
   "cell_type": "code",
   "execution_count": null,
   "id": "2d57bbfe-98b9-4741-8b33-fbbcfb965bfd",
   "metadata": {},
   "outputs": [],
   "source": [
    "client_set=set(SeqIO.index(\"../fig1/result/drllps_client_clstr_Homo_sapiens.fasta\", \"fasta\").keys())\n",
    "scaffold_set=set(SeqIO.index(\"../fig1/result/drllps_scaffold_clstr_Homo_sapiens.fasta\", \"fasta\").keys())\n",
    "nonllps_set=set(SeqIO.index(\"../fig1/result/drllps_nonllps_clstr_Homo_sapiens.fasta\", \"fasta\").keys())\n",
    "\n",
    "mat=np.load(\"../fig2/PTT5XLU50_human.npy\", allow_pickle=True)\n",
    "mat=mat.item()\n",
    "\n",
    "list_client=[]\n",
    "list_nonllps=[]\n",
    "list_scaffold=[]\n",
    "client_id=[]\n",
    "scaffold_id=[]\n",
    "nonllps_id=[]\n",
    "for k in mat.keys():\n",
    "    if k in nonllps_set:\n",
    "        list_nonllps.append(mat[k])\n",
    "        nonllps_id.append(k)\n",
    "    elif k in client_set:\n",
    "        list_client.append(mat[k])\n",
    "        client_id.append(k)\n",
    "    elif k in scaffold_set:\n",
    "        list_scaffold.append(mat[k])\n",
    "        scaffold_id.append(k)"
   ]
  },
  {
   "cell_type": "code",
   "execution_count": null,
   "id": "8fe524f0-f4d6-4d40-8ff6-64d42934a442",
   "metadata": {},
   "outputs": [],
   "source": [
    "df=pd.read_csv(\"../fig1/result/human_clstr_fea.csv\", index_col=0)"
   ]
  },
  {
   "cell_type": "code",
   "execution_count": null,
   "id": "2e3cc798-2642-4da1-b88a-c175c93ab538",
   "metadata": {},
   "outputs": [],
   "source": [
    "df_cli_idr = df.loc[list(client_id)][\"IDR\"].dropna()\n",
    "df_sca_idr = df.loc[list(scaffold_id)][\"IDR\"].dropna()\n",
    "df_oth_idr = df.loc[list(nonllps_id)][\"IDR\"].dropna()\n",
    "df_cli_kd = df.loc[list(client_id)][\"Hydrophibicity\"].dropna()\n",
    "df_sca_kd = df.loc[list(scaffold_id)][\"Hydrophibicity\"].dropna()\n",
    "df_oth_kd = df.loc[list(nonllps_id)][\"Hydrophibicity\"].dropna()\n",
    "df_cli_ch = df.loc[list(client_id)][\"ChargedAA\"].dropna()\n",
    "df_sca_ch = df.loc[list(scaffold_id)][\"ChargedAA\"].dropna()\n",
    "df_oth_ch = df.loc[list(nonllps_id)][\"ChargedAA\"].dropna()"
   ]
  },
  {
   "cell_type": "code",
   "execution_count": null,
   "id": "271ce13d-3aac-4f69-a192-6fe74165292d",
   "metadata": {},
   "outputs": [],
   "source": [
    "x = np.array(list_client+list_nonllps+list_scaffold)"
   ]
  },
  {
   "cell_type": "code",
   "execution_count": null,
   "id": "9c4f9c81-2457-4eca-a2ea-50f7d2112e61",
   "metadata": {},
   "outputs": [],
   "source": [
    "mapper = umap.UMAP(random_state=0, n_neighbors=10, min_dist=0.7)\n",
    "sc = StandardScaler()"
   ]
  },
  {
   "cell_type": "code",
   "execution_count": null,
   "id": "15789f89-736d-4832-8aa9-580bc26ef0b2",
   "metadata": {},
   "outputs": [],
   "source": [
    "x_scaled = sc.fit_transform(x)\n",
    "mapper.fit(x_scaled)"
   ]
  },
  {
   "cell_type": "code",
   "execution_count": null,
   "id": "a3c26c20-2dc8-4c9d-8160-26de92fe9ef7",
   "metadata": {},
   "outputs": [],
   "source": [
    "fig = plt.figure(figsize=(6,6))\n",
    "ax = fig.add_subplot(111)\n",
    "x_oth=mapper.transform(sc.transform(np.array(list_nonllps)))\n",
    "x_cli=mapper.transform(sc.transform(np.array(list_client)))\n",
    "x_sca=mapper.transform(sc.transform(np.array(list_scaffold)))\n",
    "#x_pre=mapper.transform(sc.transform(np.array(list_predicted)))\n",
    "ax.scatter(x_oth[:,0], x_oth[:,1], c=\"gray\", s=0.3, alpha=0.2, label=\"Non-LLPS\")\n",
    "ax.scatter(x_cli[:,0], x_cli[:,1], c=\"darkorange\", s=0.3, alpha=0.6, label=\"Client\")\n",
    "#ax.scatter(x_pre[:,0], x_pre[:,1], c=\"gold\", s=0.3, alpha=0.6, label=\"Predicted client\")\n",
    "ax.scatter(x_sca[:,0], x_sca[:,1], c=\"blueviolet\", s=0.7, alpha=0.8, label=\"Scaffold\")\n",
    "ax.tick_params(labelbottom=False, bottom=False, labelleft=False, left=False)\n",
    "plt.legend(fontsize=8)\n",
    "plt.savefig(\"result/fig4a1.pdf\")\n",
    "plt.show()"
   ]
  },
  {
   "cell_type": "code",
   "execution_count": null,
   "id": "060f7ce2-bcc7-4973-b6fc-280d26f34a8b",
   "metadata": {},
   "outputs": [],
   "source": [
    "fig = plt.figure(figsize=(6,6))\n",
    "ax = fig.add_subplot(111)\n",
    "color_dict={\"Client\":\"darkorange\", \"Scaffold\":\"blueviolet\", \"Non-LLPS\":\"lightgrey\"}\n",
    "for label, df_sub in df.groupby('label'):\n",
    "    sns.kdeplot(data=df_sub, x=\"x\", y=\"y\", label=label, color=color_dict[label])\n",
    "\n",
    "ax.tick_params(labelbottom=False, bottom=False, labelleft=False, left=False)\n",
    "#plt.legend(title='Label')\n",
    "plt.xlabel(\"\")\n",
    "plt.ylabel(\"\")\n",
    "plt.savefig(\"result/fig4a2.pdf\")\n",
    "plt.show()"
   ]
  },
  {
   "cell_type": "code",
   "execution_count": null,
   "id": "4cb277fc-1401-47ba-9b1e-29a38aca01c7",
   "metadata": {},
   "outputs": [],
   "source": [
    "df_kd=pd.concat([df_sca_kd, df_cli_kd, df_oth_kd])\n",
    "kd_vec=[]\n",
    "for k in df_kd.index:\n",
    "    kd_vec.append(mat[k])"
   ]
  },
  {
   "cell_type": "code",
   "execution_count": null,
   "id": "b26f0e7e-3efc-419e-a1f9-6491ec8c79bb",
   "metadata": {},
   "outputs": [],
   "source": [
    "fig = plt.figure(figsize=(6,6))\n",
    "ax = fig.add_subplot(111)\n",
    "x_kd=mapper.transform(sc.transform(np.array(kd_vec)))\n",
    "ax.scatter(x_kd[:,0], x_kd[:,1], c=np.array(df_kd), cmap='Blues', s=1)\n",
    "ax.tick_params(labelbottom=False, bottom=False, labelleft=False, left=False)\n",
    "ax.set_title(\"Hydrophobicity\", fontsize=20)\n",
    "plt.savefig(\"result/fig4b1.pdf\")\n",
    "plt.show()"
   ]
  },
  {
   "cell_type": "code",
   "execution_count": null,
   "id": "3f80e1e7-143b-4a6b-90e6-23aaf7d2aee0",
   "metadata": {},
   "outputs": [],
   "source": [
    "df_idr=pd.concat([df_sca_idr, df_cli_idr, df_oth_idr])\n",
    "idr_vec=[]\n",
    "for k in df_idr.index:\n",
    "    idr_vec.append(mat[k])"
   ]
  },
  {
   "cell_type": "code",
   "execution_count": null,
   "id": "25dfb059-0cb1-4393-826f-9b0c2d2f5d5a",
   "metadata": {},
   "outputs": [],
   "source": [
    "fig = plt.figure(figsize=(6,6))\n",
    "ax = fig.add_subplot(111)\n",
    "x_idr=mapper.transform(sc.transform(np.array(idr_vec)))\n",
    "ax.scatter(x_idr[:,0], x_idr[:,1], c=np.array(df_idr), cmap='Blues', s=1)\n",
    "ax.tick_params(labelbottom=False, bottom=False, labelleft=False, left=False)\n",
    "ax.set_title(\"Disorder\", fontsize=20)\n",
    "plt.savefig(\"result/fig4b2.pdf\")\n",
    "plt.show()"
   ]
  },
  {
   "cell_type": "code",
   "execution_count": null,
   "id": "4f22ded0-1fd1-4566-a8e5-1229f9edc984",
   "metadata": {},
   "outputs": [],
   "source": [
    "df_ch=pd.concat([df_sca_ch, df_cli_ch, df_oth_ch])\n",
    "ch_vec=[]\n",
    "for k in df_ch.index:\n",
    "    ch_vec.append(mat[k])"
   ]
  },
  {
   "cell_type": "code",
   "execution_count": null,
   "id": "e1112d27-02a9-48d5-a1b8-67c5a13f5120",
   "metadata": {},
   "outputs": [],
   "source": [
    "fig = plt.figure(figsize=(6,6))\n",
    "ax = fig.add_subplot(111)\n",
    "x_ch=mapper.transform(sc.transform(np.array(ch_vec)))\n",
    "ax.scatter(x_ch[:,0], x_ch[:,1], c=np.array(df_ch), cmap='Blues', s=1)\n",
    "ax.tick_params(labelbottom=False, bottom=False, labelleft=False, left=False)\n",
    "ax.set_title(\"Charged AA\", fontsize=20)\n",
    "plt.savefig(\"result/fig4b3.pdf\")\n",
    "plt.show()"
   ]
  }
 ],
 "metadata": {
  "kernelspec": {
   "display_name": "Python 3 (ipykernel)",
   "language": "python",
   "name": "python3"
  },
  "language_info": {
   "codemirror_mode": {
    "name": "ipython",
    "version": 3
   },
   "file_extension": ".py",
   "mimetype": "text/x-python",
   "name": "python",
   "nbconvert_exporter": "python",
   "pygments_lexer": "ipython3",
   "version": "3.9.17"
  }
 },
 "nbformat": 4,
 "nbformat_minor": 5
}
