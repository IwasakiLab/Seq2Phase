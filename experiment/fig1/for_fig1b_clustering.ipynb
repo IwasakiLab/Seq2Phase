{
 "cells": [
  {
   "cell_type": "markdown",
   "id": "b6876513-9d92-4e98-9ec6-053565acdb19",
   "metadata": {},
   "source": [
    "## Dependency\n",
    "- [CD-HIT](https://sites.google.com/view/cd-hit)"
   ]
  },
  {
   "cell_type": "code",
   "execution_count": null,
   "id": "4900479c-ed02-47a9-b0d8-684ab930a507",
   "metadata": {},
   "outputs": [],
   "source": [
    "inputfile=\"data/swiss_prot_human_220916.fasta\"\n",
    "dbfile=\"data/DrLLPS_230423.txt\"\n",
    "species=\"Homo sapiens\"\n",
    "outputdirectory=\"result/\"\n",
    "\n",
    "species_nospace=\"_\".join(species.split())"
   ]
  },
  {
   "cell_type": "code",
   "execution_count": null,
   "id": "aa482394-8d15-4e7f-8713-65452a44800d",
   "metadata": {
    "scrolled": true,
    "tags": []
   },
   "outputs": [],
   "source": [
    "!cd-hit -i $inputfile -o clustered_file_$species_nospace -c 0.5 -n 2 -M 0 -T 64"
   ]
  },
  {
   "cell_type": "code",
   "execution_count": null,
   "id": "e5ab28a3-68ce-47d5-bb56-475d620196de",
   "metadata": {},
   "outputs": [],
   "source": [
    "scaffold_ids = !tail -n +2 $dbfile |grep \"$species\" | grep \"Scaffold\" | cut -f 2\n",
    "regulator_ids = !tail -n +2 $dbfile |grep \"$species\" | grep \"Regulator\" | cut -f 2\n",
    "client_ids = !tail -n +2 $dbfile |grep \"$species\" | grep \"Client\" | cut -f 2"
   ]
  },
  {
   "cell_type": "code",
   "execution_count": null,
   "id": "b3d5e0e2-296f-42b7-852f-c481b1430777",
   "metadata": {},
   "outputs": [],
   "source": [
    "with open(\"clustered_file_\" + species_nospace + \".clstr\", \"r\") as f:\n",
    "    f_read=f.read()\n",
    "    lines=f_read.split(\"\\n\")\n",
    "    parsed=[]\n",
    "    for l in lines:\n",
    "        if len(l)==0:\n",
    "            continue\n",
    "        if l[0]==\">\":\n",
    "            try:\n",
    "                parsed.append(clstr)\n",
    "                clstr=[]\n",
    "            except NameError:\n",
    "                clstr=[]\n",
    "        else:\n",
    "            name=l.split(\"|\")[1]\n",
    "            length=int(l.split()[1].split(\"a\")[0])\n",
    "            clstr.append((name,length))\n",
    "    if len(clstr)>0:\n",
    "        parsed.append(clstr)"
   ]
  },
  {
   "cell_type": "code",
   "execution_count": null,
   "id": "4a90dfdc-9e08-49ec-9ae0-587a9963582a",
   "metadata": {},
   "outputs": [],
   "source": [
    "len(parsed) #for debug"
   ]
  },
  {
   "cell_type": "code",
   "execution_count": null,
   "id": "7c2c3f20-afa8-4cf0-b944-0cf599eecc91",
   "metadata": {},
   "outputs": [],
   "source": [
    "client=set(client_ids)\n",
    "scaffold=set(scaffold_ids)\n",
    "regulator=set(regulator_ids)\n",
    "\n",
    "client_clstrd=set()\n",
    "scaffold_clstrd=set()\n",
    "others_clstrd=set()\n",
    "\n",
    "n_client_and_scaffold=0\n",
    "n_regulator=0 #for debug\n",
    "\n",
    "no_representative=0\n",
    "\n",
    "for clstr in parsed:\n",
    "    longest_client=(\"\", 0)\n",
    "    longest_scaffold=(\"\", 0)\n",
    "    longest=(\"\", 0)\n",
    "    regulator_flag=False\n",
    "    for seq in clstr:\n",
    "        if seq[0] in client:\n",
    "            if longest_client[1]<seq[1]:\n",
    "                longest_client=seq\n",
    "        elif seq[0] in scaffold:\n",
    "            if longest_scaffold[1]<seq[1]:\n",
    "                longest_scaffold=seq\n",
    "        elif seq[0] in regulator:\n",
    "            regulator_flag=True\n",
    "        else:\n",
    "            if longest[1]<seq[1]:\n",
    "                longest=seq\n",
    "                \n",
    "    if longest_client[1]>0:\n",
    "        client_clstrd.add(longest_client[0])\n",
    "        if longest_scaffold[1]>0:\n",
    "            n_client_and_scaffold+=1\n",
    "    if longest_scaffold[1]>0:\n",
    "        scaffold_clstrd.add(longest_scaffold[0])\n",
    "    if longest_client[1]<=0 and longest_scaffold[1]<=0:\n",
    "        if regulator_flag==True:\n",
    "            n_regulator+=1\n",
    "        elif longest[1]==0:\n",
    "            raise RuntimeError(\"Error!\")\n",
    "        else:\n",
    "            others_clstrd.add(longest[0])"
   ]
  },
  {
   "cell_type": "code",
   "execution_count": null,
   "id": "74a0e45f-47a6-4664-be85-dbb2cb2ffff0",
   "metadata": {},
   "outputs": [],
   "source": [
    "print(len(client_clstrd)+len(scaffold_clstrd)+len(others_clstrd)-n_client_and_scaffold+n_regulator)"
   ]
  },
  {
   "cell_type": "code",
   "execution_count": null,
   "id": "18029547-da0b-4000-a48e-6f583cff5985",
   "metadata": {},
   "outputs": [],
   "source": [
    "from Bio import SeqIO\n",
    "client_fasta=outputdirectory+\"drllps_client_clstr_\"+species_nospace+\".fasta\"\n",
    "scaffold_fasta=outputdirectory+\"drllps_scaffold_clstr_\"+species_nospace+\".fasta\"\n",
    "nonllps_fasta=outputdirectory+\"drllps_nonllps_clstr_\"+species_nospace+\".fasta\"\n",
    "with open(client_fasta, \"w\") as cli, open(scaffold_fasta, \"w\") as sca, open(nonllps_fasta, \"w\") as non:\n",
    "    for rec in SeqIO.parse(inputfile, \"fasta\"):\n",
    "        name=rec.id.split(\"|\")[1]\n",
    "        if name in client_clstrd:\n",
    "            SeqIO.write(rec, cli, \"fasta\")\n",
    "        elif name in scaffold_clstrd:\n",
    "            SeqIO.write(rec, sca, \"fasta\")\n",
    "        elif name in others_clstrd:\n",
    "            SeqIO.write(rec, non, \"fasta\")"
   ]
  },
  {
   "cell_type": "code",
   "execution_count": null,
   "id": "e4c2215b-11f6-44b7-af98-4b393e056357",
   "metadata": {},
   "outputs": [],
   "source": []
  }
 ],
 "metadata": {
  "kernelspec": {
   "display_name": "Python 3 (ipykernel)",
   "language": "python",
   "name": "python3"
  },
  "language_info": {
   "codemirror_mode": {
    "name": "ipython",
    "version": 3
   },
   "file_extension": ".py",
   "mimetype": "text/x-python",
   "name": "python",
   "nbconvert_exporter": "python",
   "pygments_lexer": "ipython3",
   "version": "3.9.12"
  }
 },
 "nbformat": 4,
 "nbformat_minor": 5
}
