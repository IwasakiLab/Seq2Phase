{
 "cells": [
  {
   "cell_type": "markdown",
   "id": "18df9fa9-5304-4fc9-b352-e791b991ad62",
   "metadata": {},
   "source": [
    "## Dependencies\n",
    "- [IUPred3](https://iupred3.elte.hu)\n",
    "- [PScore](https://doi.org/10.7554/eLife.31486)\n",
    "- [SEG](https://doi.org/10.1016/0097-8485(93)85006-X)"
   ]
  },
  {
   "cell_type": "code",
   "execution_count": null,
   "id": "31e66596-f3a5-4fb4-8efa-73c697956bc2",
   "metadata": {},
   "outputs": [],
   "source": [
    "inputfile=\"data/swiss_prot_human_220916.fasta\""
   ]
  },
  {
   "cell_type": "code",
   "execution_count": null,
   "id": "c1e4f597-77d3-4fa2-976e-0598ca0d902b",
   "metadata": {},
   "outputs": [],
   "source": [
    "import pandas as pd\n",
    "import numpy as np\n",
    "from Bio import SeqIO\n",
    "from statistics import mean"
   ]
  },
  {
   "cell_type": "code",
   "execution_count": null,
   "id": "df7a00ed-fa40-4289-9176-638d7f05c461",
   "metadata": {},
   "outputs": [],
   "source": [
    "seq_id=[]\n",
    "seq_dict={}\n",
    "for rec in SeqIO.parse(inputfile, \"fasta\"):\n",
    "    seq_id.append(rec.id)\n",
    "    seq_dict[rec.id]=str(rec.seq)"
   ]
  },
  {
   "cell_type": "code",
   "execution_count": null,
   "id": "1fd4cefb-bce2-4764-9206-3705735ddd5c",
   "metadata": {},
   "outputs": [],
   "source": [
    "df=pd.DataFrame(index=seq_id, columns=[\"Hydrophibicity\", \"ChargedAA\", \"LCR\", \"IDR\", \"Length\"])\n",
    "df = df.applymap(lambda x: np.nan)"
   ]
  },
  {
   "cell_type": "code",
   "execution_count": null,
   "id": "0a33567d-d900-4a7b-90e6-ddd52d883eb2",
   "metadata": {},
   "outputs": [],
   "source": [
    "kd = { 'A': 1.8,'R':-4.5,'N':-3.5,'D':-3.5,'C': 2.5,\n",
    "       'Q':-3.5,'E':-3.5,'G':-0.4,'H':-3.2,'I': 4.5,\n",
    "       'L': 3.8,'K':-3.9,'M': 1.9,'F': 2.8,'P':-1.6,\n",
    "       'S':-0.8,'T':-0.7,'W':-0.9,'Y':-1.3,'V': 4.2, 'U': 0 }\n",
    "Hydrophibicity = [mean([kd[c] for c in seq_dict[k]]) for k in seq_id]\n",
    "df[\"Hydrophibicity\"] = Hydrophibicity"
   ]
  },
  {
   "cell_type": "code",
   "execution_count": null,
   "id": "f4065cc2-9945-4c06-a82b-23866f945b26",
   "metadata": {},
   "outputs": [],
   "source": [
    "charge = { 'A': 0,'R':1,'N':0,'D':1,'C':0,\n",
    "       'Q':0,'E':1,'G':0,'H':0,'I': 0,\n",
    "       'L': 0,'K':1,'M': 0,'F': 0,'P':0,\n",
    "       'S':0,'T':0,'W':0,'Y':0,'V': 0, 'U': 0 }\n",
    "ChargedAA = [mean([charge[c] for c in seq_dict[k]]) for k in seq_id]\n",
    "df[\"ChargedAA\"] = ChargedAA"
   ]
  },
  {
   "cell_type": "code",
   "execution_count": null,
   "id": "66da6ad3-e524-4f06-a396-59f19827c32b",
   "metadata": {},
   "outputs": [],
   "source": [
    "from iupred3 import iupred3_lib\n",
    "idr=[]\n",
    "for k in seq_id:\n",
    "    try:\n",
    "        iupred_score=iupred3_lib.iupred(seq_dict[k])\n",
    "        iupred_score=mean(iupred_score[0])\n",
    "    except:\n",
    "        iupred_score=np.nan\n",
    "    idr.append(iupred_score)"
   ]
  },
  {
   "cell_type": "code",
   "execution_count": null,
   "id": "038e704d-51ba-4dcb-a310-d97b4b829e90",
   "metadata": {},
   "outputs": [],
   "source": [
    "df[\"IDR\"] = idr"
   ]
  },
  {
   "cell_type": "code",
   "execution_count": null,
   "id": "1f526b2e-2bf5-4df6-a272-aeb1cd9c8716",
   "metadata": {},
   "outputs": [],
   "source": [
    "path_to_seg=\"/path/to/seg\"\n",
    "outputfile=\"human_lcr.fasta\""
   ]
  },
  {
   "cell_type": "code",
   "execution_count": null,
   "id": "612b3dca-f893-48a8-9556-aa5200655eee",
   "metadata": {},
   "outputs": [],
   "source": [
    "!$path_to_seg $inputfile -x > $outputfile"
   ]
  },
  {
   "cell_type": "code",
   "execution_count": null,
   "id": "52b5f4a6-41df-47ab-a46d-4ac944d24e03",
   "metadata": {},
   "outputs": [],
   "source": [
    "Length=[]\n",
    "LCR=[]\n",
    "for rec in SeqIO.parse(outputfile, \"fasta\"):\n",
    "    seq=str(rec.seq)\n",
    "    leng=len(seq)\n",
    "    n_lcr=seq.count(\"x\")\n",
    "    Length.append(leng)\n",
    "    LCR.append(n_lcr/leng)"
   ]
  },
  {
   "cell_type": "code",
   "execution_count": null,
   "id": "10f78e95-d323-4ad9-83ce-077afe91bfa1",
   "metadata": {},
   "outputs": [],
   "source": [
    "df[\"Length\"] = Length\n",
    "df[\"LCR\"] = LCR"
   ]
  },
  {
   "cell_type": "code",
   "execution_count": null,
   "id": "bef881a6-72b2-4672-85f7-0c99b6a63d01",
   "metadata": {},
   "outputs": [],
   "source": [
    "def read_file_to_dict(file_name):\n",
    "    result_dict = {}\n",
    "    \n",
    "    with open(file_name, 'r') as file:\n",
    "        for line in file:\n",
    "            # Split line by spaces and remove empty strings\n",
    "            columns = list(filter(None, line.split(' ')))\n",
    "            \n",
    "            # Assign values from columns\n",
    "            value = float(columns[1])\n",
    "            id_ = columns[2].strip()\n",
    "            \n",
    "            # Add to the result dictionary\n",
    "            result_dict[id_[1:]] = value\n",
    "            \n",
    "    return result_dict"
   ]
  },
  {
   "cell_type": "code",
   "execution_count": null,
   "id": "24117bdc-53c3-4554-88cf-9761a059251d",
   "metadata": {
    "scrolled": true,
    "tags": []
   },
   "outputs": [],
   "source": [
    "path_to_pscore=\"/path/to/pscore\"\n",
    "!python $path_to_pscore result/drllps_client_clstr_Homo_sapiens.fasta -output result/human_client_pscore.txt\n",
    "!python $path_to_pscore result/drllps_scaffold_clstr_Homo_sapiens.fasta -output result/human_scaffold_pscore.txt\n",
    "!python $path_to_pscore result/drllps_nonllps_clstr_Homo_sapiens.fasta -output result/human_nonllps_pscore.txt"
   ]
  },
  {
   "cell_type": "code",
   "execution_count": null,
   "id": "2f43ae90-cff1-40ae-8e94-53a1fe48af8f",
   "metadata": {},
   "outputs": [],
   "source": [
    "file_name = 'result/human_scaffold_pscore.txt'\n",
    "scaffold_dict = read_file_to_dict(file_name)\n",
    "file_name = 'result/human_client_pscore.txt'\n",
    "client_dict = read_file_to_dict(file_name)\n",
    "file_name = 'result/human_nonllps_pscore.txt'\n",
    "nonllps_dict = read_file_to_dict(file_name)\n",
    "ps_dict=scaffold_dict | client_dict | nonllps_dict\n",
    "for k in ps_dict:\n",
    "    df.at[k,\"PScore\"]=ps_dict[k]"
   ]
  },
  {
   "cell_type": "code",
   "execution_count": null,
   "id": "36c2243c-b649-41e9-a63a-b1a7ae51bf65",
   "metadata": {},
   "outputs": [],
   "source": [
    "client_set=set(SeqIO.index(\"result/drllps_client_clstr_Homo_sapiens.fasta\", \"fasta\").keys())\n",
    "scaffold_set=set(SeqIO.index(\"result/drllps_scaffold_clstr_Homo_sapiens.fasta\", \"fasta\").keys())\n",
    "nonllps_set=set(SeqIO.index(\"result/drllps_nonllps_clstr_Homo_sapiens.fasta\", \"fasta\").keys())"
   ]
  },
  {
   "cell_type": "code",
   "execution_count": null,
   "id": "a008503f-df0b-4759-aac2-70eb2416f7d4",
   "metadata": {},
   "outputs": [],
   "source": [
    "df_cli=df.loc[list(client_set)]\n",
    "df_sca=df.loc[list(scaffold_set)]\n",
    "df_non=df.loc[list(nonllps_set)]"
   ]
  },
  {
   "cell_type": "code",
   "execution_count": null,
   "id": "beb77e52-fb04-469c-82c1-0f0bf7669c18",
   "metadata": {},
   "outputs": [],
   "source": [
    "df_cli[\"label\"]=\"client\"\n",
    "df_sca[\"label\"]=\"scaffold\"\n",
    "df_non[\"label\"]=\"non-LLPS\"\n",
    "df_all=pd.concat([df_sca, df_cli, df_non])"
   ]
  },
  {
   "cell_type": "code",
   "execution_count": null,
   "id": "2d4ecaf3-c2ef-43cf-ba66-ab0a00901107",
   "metadata": {},
   "outputs": [],
   "source": [
    "df_all"
   ]
  },
  {
   "cell_type": "code",
   "execution_count": null,
   "id": "777d90d5-ea81-4de3-8773-ad1cedc14979",
   "metadata": {},
   "outputs": [],
   "source": [
    "df_all.to_csv(\"result/human_clstr_fea.csv\")"
   ]
  },
  {
   "cell_type": "code",
   "execution_count": null,
   "id": "bf9fdd2f-0e08-4265-b532-481ab5542bef",
   "metadata": {},
   "outputs": [],
   "source": [
    "import seaborn as sns\n",
    "import matplotlib.pyplot as plt"
   ]
  },
  {
   "cell_type": "code",
   "execution_count": null,
   "id": "64f3cc9f-6347-415f-aace-2fba02d4e2b1",
   "metadata": {},
   "outputs": [],
   "source": [
    "sns.set_palette([\"mediumpurple\", \"orange\", \"lightgray\"])\n",
    "fig = plt.figure(figsize=(10,8))\n",
    "ax=fig.add_subplot(231)\n",
    "sns.stripplot(data=df_all, x=\"label\", y=\"IDR\", size=2, alpha=.2, jitter=.35)\n",
    "sns.violinplot(data=df_all, x=\"label\", y=\"IDR\", linewidth=1, ax=ax, cut=0, color=\"w\")\n",
    "\n",
    "#ax.tick_params(labelright=False, labeltop=False)\n",
    "plt.ylabel(\"Disorder\",fontsize=15)\n",
    "plt.xlabel(\"\")\n",
    "plt.gca().spines['right'].set_visible(False)\n",
    "plt.gca().spines['top'].set_visible(False)\n",
    "plt.tick_params(labelsize=13)\n",
    "ax=fig.add_subplot(232)\n",
    "sns.stripplot(data=df_all, x=\"label\", y=\"Hydrophibicity\", size=2, alpha=.2, jitter=.35)\n",
    "sns.violinplot(data=df_all, x=\"label\", y=\"Hydrophibicity\", linewidth=1, ax=ax, cut=0, color=\"w\")\n",
    "plt.ylabel(\"Hydrophobicity\",fontsize=15)\n",
    "plt.xlabel(\"\")\n",
    "plt.gca().spines['right'].set_visible(False)\n",
    "plt.gca().spines['top'].set_visible(False)\n",
    "plt.tick_params(labelsize=13)\n",
    "ax=fig.add_subplot(234)\n",
    "sns.stripplot(data=df_all, x=\"label\", y=\"ChargedAA\", size=2, alpha=.2, jitter=.35)\n",
    "sns.violinplot(data=df_all, x=\"label\", y=\"ChargedAA\", linewidth=1, ax=ax, cut=0, color=\"w\")\n",
    "plt.ylabel(\"Charged AA\",fontsize=15)\n",
    "plt.xlabel(\"\")\n",
    "plt.gca().spines['right'].set_visible(False)\n",
    "plt.gca().spines['top'].set_visible(False)\n",
    "plt.tick_params(labelsize=13)\n",
    "ax=fig.add_subplot(236)\n",
    "sns.stripplot(data=df_all, x=\"label\", y=\"PScore\", size=2, alpha=.2, jitter=.35)\n",
    "sns.violinplot(data=df_all, x=\"label\", y=\"PScore\", linewidth=1, ax=ax, cut=0, color=\"w\")\n",
    "plt.ylabel(\"PScore\",fontsize=15)\n",
    "plt.xlabel(\"\")\n",
    "plt.gca().spines['right'].set_visible(False)\n",
    "plt.gca().spines['top'].set_visible(False)\n",
    "plt.tick_params(labelsize=13)\n",
    "ax=fig.add_subplot(233)\n",
    "sns.stripplot(data=df_all, x=\"label\", y=\"Length\", size=2, alpha=.2, jitter=.35)\n",
    "sns.violinplot(data=df_all, x=\"label\", y=\"Length\", linewidth=1, ax=ax, cut=0, color=\"w\")\n",
    "plt.ylabel(\"Length\",fontsize=15)\n",
    "plt.xlabel(\"\")\n",
    "plt.yscale(\"log\")\n",
    "plt.gca().spines['right'].set_visible(False)\n",
    "plt.gca().spines['top'].set_visible(False)\n",
    "plt.tick_params(labelsize=13)\n",
    "ax=fig.add_subplot(235)\n",
    "sns.stripplot(data=df_all, x=\"label\", y=\"LCR\", size=2, alpha=.2, jitter=.35)\n",
    "sns.violinplot(data=df_all, x=\"label\", y=\"LCR\", linewidth=1, ax=ax, cut=0, color=\"w\")\n",
    "plt.ylabel(\"Low complexity\",fontsize=15)\n",
    "plt.xlabel(\"\")\n",
    "plt.gca().spines['right'].set_visible(False)\n",
    "plt.gca().spines['top'].set_visible(False)\n",
    "plt.tick_params(labelsize=13)\n",
    "plt.tight_layout()\n",
    "plt.savefig(\"result_fig1b.pdf\")\n",
    "plt.show()"
   ]
  },
  {
   "cell_type": "code",
   "execution_count": null,
   "id": "d23025a8-2be9-4cdd-90e9-945d74b62cce",
   "metadata": {},
   "outputs": [],
   "source": []
  }
 ],
 "metadata": {
  "kernelspec": {
   "display_name": "Python 3 (ipykernel)",
   "language": "python",
   "name": "python3"
  },
  "language_info": {
   "codemirror_mode": {
    "name": "ipython",
    "version": 3
   },
   "file_extension": ".py",
   "mimetype": "text/x-python",
   "name": "python",
   "nbconvert_exporter": "python",
   "pygments_lexer": "ipython3",
   "version": "3.9.12"
  }
 },
 "nbformat": 4,
 "nbformat_minor": 5
}
