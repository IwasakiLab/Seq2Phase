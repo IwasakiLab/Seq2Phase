{
 "cells": [
  {
   "cell_type": "code",
   "execution_count": null,
   "id": "192d3e31-6b71-4556-85e2-83287aa61eb2",
   "metadata": {},
   "outputs": [],
   "source": [
    "from bio_embeddings.embed.prottrans_t5_embedder import ProtTransT5XLU50Embedder\n",
    "from Bio import SeqIO\n",
    "import sys\n",
    "import numpy as np"
   ]
  },
  {
   "cell_type": "code",
   "execution_count": null,
   "id": "3e74c09d-d0fe-4ec1-be06-b3e48a93f52e",
   "metadata": {},
   "outputs": [],
   "source": [
    "embedder = ProtTransT5XLU50Embedder(device='cuda:0')"
   ]
  },
  {
   "cell_type": "code",
   "execution_count": null,
   "id": "dd62aa55-7de9-4f96-97c7-3db18cb73ac6",
   "metadata": {},
   "outputs": [],
   "source": [
    "sequences = []\n",
    "for record in SeqIO.parse(\"../../fig1/data/swiss_prot_human_220916.fasta\", \"fasta\"):\n",
    "    sequences.append(record)"
   ]
  },
  {
   "cell_type": "code",
   "execution_count": null,
   "id": "6a60ab78-6e35-4218-947c-b6c87c69fcfb",
   "metadata": {},
   "outputs": [],
   "source": [
    "embeddings = embedder.embed_many([str(s.seq) for s in sequences])\n",
    "embeddings=list(embeddings)"
   ]
  },
  {
   "cell_type": "code",
   "execution_count": null,
   "id": "307a5417-dc6d-4c60-a207-60fe7fa51f4e",
   "metadata": {},
   "outputs": [],
   "source": [
    "ids=[str(s.id) for s in sequences]\n",
    "dict_mat={x:y for x,y in zip(ids,embeddings)}\n",
    "mat_mean={k:dict_mat[k].mean(axis=0) for k in dict_mat.keys()}\n",
    "np.save(\"PTT5XLU50_human.npy\", mat_mean) "
   ]
  },
  {
   "cell_type": "code",
   "execution_count": null,
   "id": "23de07b5-0dd3-491d-b312-805051264047",
   "metadata": {},
   "outputs": [],
   "source": [
    "sequences = []\n",
    "for record in SeqIO.parse(\"../../fig1/data/swiss_prot_yeast_220916.fasta\", \"fasta\"):\n",
    "    sequences.append(record)"
   ]
  },
  {
   "cell_type": "code",
   "execution_count": null,
   "id": "64e497d0-4157-480e-8580-92c6cb02cdba",
   "metadata": {},
   "outputs": [],
   "source": [
    "embeddings = embedder.embed_many([str(s.seq) for s in sequences])\n",
    "embeddings=list(embeddings)"
   ]
  },
  {
   "cell_type": "code",
   "execution_count": null,
   "id": "c27cba8b-23d5-4a8e-850c-de19a20aceb0",
   "metadata": {},
   "outputs": [],
   "source": [
    "ids=[str(s.id) for s in sequences]\n",
    "dict_mat={x:y for x,y in zip(ids,embeddings)}\n",
    "mat_mean={k:dict_mat[k].mean(axis=0) for k in dict_mat.keys()}\n",
    "np.save(\"PTT5XLU50_yeast.npy\", mat_mean) "
   ]
  }
 ],
 "metadata": {
  "kernelspec": {
   "display_name": "Python 3 (ipykernel)",
   "language": "python",
   "name": "python3"
  },
  "language_info": {
   "codemirror_mode": {
    "name": "ipython",
    "version": 3
   },
   "file_extension": ".py",
   "mimetype": "text/x-python",
   "name": "python",
   "nbconvert_exporter": "python",
   "pygments_lexer": "ipython3",
   "version": "3.9.17"
  }
 },
 "nbformat": 4,
 "nbformat_minor": 5
}
