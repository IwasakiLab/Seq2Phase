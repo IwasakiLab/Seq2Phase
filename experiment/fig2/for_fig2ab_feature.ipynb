{
 "cells": [
  {
   "cell_type": "markdown",
   "id": "e73a1cd8-aff8-4fd5-b46a-afac5ae7b78c",
   "metadata": {},
   "source": [
    "## Dependencies\n",
    "- [IUPred3](https://iupred3.elte.hu)\n",
    "- [SEG](https://doi.org/10.1016/0097-8485(93)85006-X)"
   ]
  },
  {
   "cell_type": "code",
   "execution_count": null,
   "id": "31e66596-f3a5-4fb4-8efa-73c697956bc2",
   "metadata": {},
   "outputs": [],
   "source": [
    "inputfile=\"../fig1/data/swiss_prot_human_220916.fasta\""
   ]
  },
  {
   "cell_type": "code",
   "execution_count": null,
   "id": "c1e4f597-77d3-4fa2-976e-0598ca0d902b",
   "metadata": {},
   "outputs": [],
   "source": [
    "import pandas as pd\n",
    "import numpy as np\n",
    "from Bio import SeqIO\n",
    "from statistics import mean"
   ]
  },
  {
   "cell_type": "code",
   "execution_count": null,
   "id": "df7a00ed-fa40-4289-9176-638d7f05c461",
   "metadata": {},
   "outputs": [],
   "source": [
    "seq_id=[]\n",
    "seq_dict={}\n",
    "for rec in SeqIO.parse(inputfile, \"fasta\"):\n",
    "    seq_id.append(rec.id)\n",
    "    seq_dict[rec.id]=str(rec.seq)"
   ]
  },
  {
   "cell_type": "code",
   "execution_count": null,
   "id": "1fd4cefb-bce2-4764-9206-3705735ddd5c",
   "metadata": {},
   "outputs": [],
   "source": [
    "df=pd.DataFrame(index=seq_id, columns=[\"Hydrophibicity\", \"ChargedAA\", \"LCR\", \"IDR\", \"Length\"])\n",
    "df=df.applymap(lambda x: np.nan)"
   ]
  },
  {
   "cell_type": "code",
   "execution_count": null,
   "id": "0a33567d-d900-4a7b-90e6-ddd52d883eb2",
   "metadata": {},
   "outputs": [],
   "source": [
    "kd = { 'A': 1.8,'R':-4.5,'N':-3.5,'D':-3.5,'C': 2.5,\n",
    "       'Q':-3.5,'E':-3.5,'G':-0.4,'H':-3.2,'I': 4.5,\n",
    "       'L': 3.8,'K':-3.9,'M': 1.9,'F': 2.8,'P':-1.6,\n",
    "       'S':-0.8,'T':-0.7,'W':-0.9,'Y':-1.3,'V': 4.2, 'U': 0 }\n",
    "Hydrophibicity = [mean([kd[c] for c in seq_dict[k]]) for k in seq_id]\n",
    "df[\"Hydrophibicity\"] = Hydrophibicity"
   ]
  },
  {
   "cell_type": "code",
   "execution_count": null,
   "id": "f4065cc2-9945-4c06-a82b-23866f945b26",
   "metadata": {},
   "outputs": [],
   "source": [
    "charge = { 'A': 0,'R':1,'N':0,'D':1,'C':0,\n",
    "       'Q':0,'E':1,'G':0,'H':0,'I': 0,\n",
    "       'L': 0,'K':1,'M': 0,'F': 0,'P':0,\n",
    "       'S':0,'T':0,'W':0,'Y':0,'V': 0, 'U': 0 }\n",
    "ChargedAA = [mean([charge[c] for c in seq_dict[k]]) for k in seq_id]\n",
    "df[\"ChargedAA\"] = ChargedAA"
   ]
  },
  {
   "cell_type": "code",
   "execution_count": null,
   "id": "66da6ad3-e524-4f06-a396-59f19827c32b",
   "metadata": {},
   "outputs": [],
   "source": [
    "from iupred3 import iupred3_lib\n",
    "idr=[]\n",
    "for k in seq_id:\n",
    "    try:\n",
    "        iupred_score=iupred3_lib.iupred(seq_dict[k])\n",
    "        iupred_score=mean(iupred_score[0])\n",
    "    except:\n",
    "        iupred_score=np.nan\n",
    "    idr.append(iupred_score)"
   ]
  },
  {
   "cell_type": "code",
   "execution_count": null,
   "id": "c9639492-277a-42bd-973a-e535a4e4af3d",
   "metadata": {},
   "outputs": [],
   "source": [
    "df[\"IDR\"] = idr"
   ]
  },
  {
   "cell_type": "code",
   "execution_count": null,
   "id": "1f526b2e-2bf5-4df6-a272-aeb1cd9c8716",
   "metadata": {},
   "outputs": [],
   "source": [
    "path_to_seg=\"/path/to/seg\"\n",
    "outputfile=\"human_lcr.fasta\""
   ]
  },
  {
   "cell_type": "code",
   "execution_count": null,
   "id": "612b3dca-f893-48a8-9556-aa5200655eee",
   "metadata": {},
   "outputs": [],
   "source": [
    "!$path_to_seg $inputfile -x > $outputfile"
   ]
  },
  {
   "cell_type": "code",
   "execution_count": null,
   "id": "52b5f4a6-41df-47ab-a46d-4ac944d24e03",
   "metadata": {},
   "outputs": [],
   "source": [
    "Length=[]\n",
    "LCR=[]\n",
    "for rec in SeqIO.parse(outputfile, \"fasta\"):\n",
    "    seq=str(rec.seq)\n",
    "    leng=len(seq)\n",
    "    n_lcr=seq.count(\"x\")\n",
    "    Length.append(leng)\n",
    "    LCR.append(n_lcr/leng)"
   ]
  },
  {
   "cell_type": "code",
   "execution_count": null,
   "id": "10f78e95-d323-4ad9-83ce-077afe91bfa1",
   "metadata": {},
   "outputs": [],
   "source": [
    "df[\"Length\"] = Length\n",
    "df[\"LCR\"] = LCR"
   ]
  },
  {
   "cell_type": "code",
   "execution_count": null,
   "id": "ea1c3f35-f3ce-41ba-9eca-2ebbed0af18f",
   "metadata": {},
   "outputs": [],
   "source": [
    "AAs=\"ACDEFGHIKLMNPQRSTVWY\"\n",
    "AA=[]\n",
    "diAA=[]\n",
    "for a in AAs:\n",
    "    AA.append(a)\n",
    "    for b in AAs:\n",
    "        diAA.append(a+b)"
   ]
  },
  {
   "cell_type": "code",
   "execution_count": null,
   "id": "f5b3d007-849e-4425-9ea5-36588c98d00e",
   "metadata": {},
   "outputs": [],
   "source": [
    "def countAA(seq):\n",
    "    count={x:0 for x in AA}\n",
    "    for c in seq:\n",
    "        try:\n",
    "            count[c]+=1\n",
    "        except:\n",
    "            pass\n",
    "    length=len(seq)\n",
    "    count=[count[k]/length for k in AA]\n",
    "    \n",
    "    countdi={x:0 for x in diAA}\n",
    "    for i in range(len(seq)-1):\n",
    "        di=seq[i:i+2]\n",
    "        try:\n",
    "            countdi[di]+=1\n",
    "        except:\n",
    "            pass\n",
    "    countdi=[countdi[k]/(length-1) for k in diAA]\n",
    "    return count+countdi"
   ]
  },
  {
   "cell_type": "code",
   "execution_count": null,
   "id": "1751066d-d50e-4640-b5b6-e4de68044f52",
   "metadata": {},
   "outputs": [],
   "source": [
    "dfaa=pd.DataFrame(index=seq_id, columns=AA+diAA)\n",
    "dfaa = dfaa.applymap(lambda x: np.nan)"
   ]
  },
  {
   "cell_type": "code",
   "execution_count": null,
   "id": "e698921e-784c-4296-8f77-ba3c4f74ee2e",
   "metadata": {},
   "outputs": [],
   "source": [
    "for sid in seq_id:\n",
    "    seq=seq_dict[sid]\n",
    "    dfaa.loc[sid] = countAA(seq)"
   ]
  },
  {
   "cell_type": "code",
   "execution_count": null,
   "id": "7418b540-a24f-4b10-9a60-c35a5a4e061f",
   "metadata": {},
   "outputs": [],
   "source": [
    "dfaa"
   ]
  },
  {
   "cell_type": "code",
   "execution_count": null,
   "id": "c00de54b-287f-48a1-9e5a-a2e9c718e96a",
   "metadata": {
    "scrolled": true,
    "tags": []
   },
   "outputs": [],
   "source": [
    "dfall=pd.concat([df,dfaa], axis=1)\n",
    "print(dfall)"
   ]
  },
  {
   "cell_type": "code",
   "execution_count": null,
   "id": "c54879bc-4801-493f-8ad5-26a01a5f7ba1",
   "metadata": {},
   "outputs": [],
   "source": [
    "df_to_dict={k:np.array(dfall.loc[k]) for k in dfall.index}"
   ]
  },
  {
   "cell_type": "code",
   "execution_count": null,
   "id": "47e5c6ab-a6b1-4a92-ad93-408d1fb9bfce",
   "metadata": {},
   "outputs": [],
   "source": [
    "np.save(\"human_feature.npy\", df_to_dict) "
   ]
  }
 ],
 "metadata": {
  "kernelspec": {
   "display_name": "Python 3 (ipykernel)",
   "language": "python",
   "name": "python3"
  },
  "language_info": {
   "codemirror_mode": {
    "name": "ipython",
    "version": 3
   },
   "file_extension": ".py",
   "mimetype": "text/x-python",
   "name": "python",
   "nbconvert_exporter": "python",
   "pygments_lexer": "ipython3",
   "version": "3.9.12"
  }
 },
 "nbformat": 4,
 "nbformat_minor": 5
}
