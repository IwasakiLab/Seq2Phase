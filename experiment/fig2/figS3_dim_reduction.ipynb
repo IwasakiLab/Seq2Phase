{
 "cells": [
  {
   "cell_type": "code",
   "execution_count": null,
   "id": "b7eab622-349f-4df4-9598-8ec21514d710",
   "metadata": {},
   "outputs": [],
   "source": [
    "import pandas as pd\n",
    "import json\n",
    "import matplotlib.pyplot as plt"
   ]
  },
  {
   "cell_type": "code",
   "execution_count": null,
   "id": "e2238d49-b895-4d69-8198-7ee3e4e8acd0",
   "metadata": {},
   "outputs": [],
   "source": [
    "file_path = 'scores_scaffold_nonllps.csv'\n",
    "data = pd.read_csv(file_path)"
   ]
  },
  {
   "cell_type": "code",
   "execution_count": null,
   "id": "57f54507-8b3f-4868-b46f-f5c1f62c37e4",
   "metadata": {},
   "outputs": [],
   "source": [
    "def parse_scores(json_str):\n",
    "    return json.loads(json_str.replace(\"'\", \"\\\"\"))\n",
    "\n",
    "data['Scores'] = data['Scores'].apply(parse_scores)\n",
    "data['PR-AUC'] = data['Scores'].apply(lambda x: x['prauc'])\n",
    "prauc_means = data.groupby(['Dimension', 'Model'])['PR-AUC'].mean().reset_index()\n",
    "prauc_means.head()"
   ]
  },
  {
   "cell_type": "code",
   "execution_count": null,
   "id": "4504cdf2-11ca-4126-a850-085fbc84662a",
   "metadata": {},
   "outputs": [],
   "source": [
    "prauc_stats = data.groupby(['Dimension', 'Model'])['PR-AUC'].agg(['mean', 'std']).reset_index()"
   ]
  },
  {
   "cell_type": "code",
   "execution_count": null,
   "id": "643567a7-3e34-4f27-a0b0-903b3b0cb1c0",
   "metadata": {},
   "outputs": [],
   "source": [
    "prauc_stats['Dimension'] = prauc_stats['Dimension'].astype(str)\n",
    "\n",
    "dimension_order = ['128', '64', '32', '16', '8', '4']\n",
    "\n",
    "plt.figure(figsize=(6, 4))\n",
    "\n",
    "markers = {\n",
    "    'nn': 'o',  \n",
    "    'svm': 's',  \n",
    "    'rf': '^',  \n",
    "    'hgbc': 'D',  \n",
    "}\n",
    "\n",
    "unique_models = prauc_stats['Model'].unique()\n",
    "\n",
    "for model in unique_models:\n",
    "    model_data = prauc_stats[prauc_stats['Model'] == model]\n",
    "    model_data = model_data.set_index('Dimension').reindex(dimension_order).reset_index()\n",
    "    plt.plot(model_data['Dimension'], model_data['mean'], \n",
    "             marker=markers.get(model, 'o'),\n",
    "             label=model.upper())\n",
    "\n",
    "plt.title('Average PR-AUC by Model and Input Dimension')\n",
    "plt.xlabel('Input Dimension')\n",
    "plt.ylabel('Average PR-AUC')\n",
    "plt.xticks(ticks=dimension_order, labels=dimension_order)\n",
    "plt.legend(title='Model', loc='upper right')\n",
    "\n",
    "plt.tight_layout()\n",
    "plt.savefig(\"fig_S3_a.pdf\")\n",
    "plt.show()"
   ]
  },
  {
   "cell_type": "code",
   "execution_count": null,
   "id": "6dccc7bd-1809-4589-aca4-2fdafe032c80",
   "metadata": {},
   "outputs": [],
   "source": [
    "file_path = 'scores_scaffold_client.csv'\n",
    "data = pd.read_csv(file_path)"
   ]
  },
  {
   "cell_type": "code",
   "execution_count": null,
   "id": "56b004c6-ef1e-4fc4-ae60-d7be9f16e1de",
   "metadata": {},
   "outputs": [],
   "source": [
    "data['Scores'] = data['Scores'].apply(parse_scores)\n",
    "data['PR-AUC'] = data['Scores'].apply(lambda x: x['prauc'])\n",
    "prauc_means = data.groupby(['Dimension', 'Model'])['PR-AUC'].mean().reset_index()\n",
    "prauc_means.head()"
   ]
  },
  {
   "cell_type": "code",
   "execution_count": null,
   "id": "7cccb95c-7862-422d-b14e-5de207b3d262",
   "metadata": {},
   "outputs": [],
   "source": [
    "prauc_stats = data.groupby(['Dimension', 'Model'])['PR-AUC'].agg(['mean', 'std']).reset_index()"
   ]
  },
  {
   "cell_type": "code",
   "execution_count": null,
   "id": "e0e314f8-68d2-4be2-9118-a8077bad2e18",
   "metadata": {},
   "outputs": [],
   "source": [
    "prauc_stats['Dimension'] = prauc_stats['Dimension'].astype(str)\n",
    "\n",
    "dimension_order = ['128', '64', '32', '16', '8', '4']\n",
    "\n",
    "plt.figure(figsize=(6, 4))\n",
    "\n",
    "markers = {\n",
    "    'nn': 'o',  \n",
    "    'svm': 's',  \n",
    "    'rf': '^',  \n",
    "    'hgbc': 'D',  \n",
    "}\n",
    "\n",
    "unique_models = prauc_stats['Model'].unique()\n",
    "\n",
    "for model in unique_models:\n",
    "    model_data = prauc_stats[prauc_stats['Model'] == model]\n",
    "    model_data = model_data.set_index('Dimension').reindex(dimension_order).reset_index()\n",
    "    plt.plot(model_data['Dimension'], model_data['mean'], \n",
    "             marker=markers.get(model, 'o'),\n",
    "             label=model.upper())\n",
    "\n",
    "plt.title('Average PR-AUC by Model and Input Dimension')\n",
    "plt.xlabel('Input Dimension')\n",
    "plt.ylabel('Average PR-AUC')\n",
    "plt.xticks(ticks=dimension_order, labels=dimension_order)\n",
    "plt.legend(title='Model', loc='upper right')\n",
    "\n",
    "plt.tight_layout()\n",
    "plt.savefig(\"fig_S3_b.pdf\")\n",
    "plt.show()"
   ]
  }
 ],
 "metadata": {
  "kernelspec": {
   "display_name": "Python 3 (ipykernel)",
   "language": "python",
   "name": "python3"
  },
  "language_info": {
   "codemirror_mode": {
    "name": "ipython",
    "version": 3
   },
   "file_extension": ".py",
   "mimetype": "text/x-python",
   "name": "python",
   "nbconvert_exporter": "python",
   "pygments_lexer": "ipython3",
   "version": "3.9.17"
  }
 },
 "nbformat": 4,
 "nbformat_minor": 5
}
