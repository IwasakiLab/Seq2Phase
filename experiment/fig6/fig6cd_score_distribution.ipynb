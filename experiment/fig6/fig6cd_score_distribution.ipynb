{
 "cells": [
  {
   "cell_type": "code",
   "execution_count": null,
   "id": "1070900a-98d7-4b95-9796-575ffa861054",
   "metadata": {},
   "outputs": [],
   "source": [
    "from sklearn.svm import SVC\n",
    "import pandas as pd\n",
    "import numpy as np\n",
    "from Bio import SeqIO\n",
    "import matplotlib.pyplot as plt\n",
    "import seaborn as sns\n",
    "from sklearn.model_selection import StratifiedKFold\n",
    "import random\n",
    "from sklearn.pipeline import make_pipeline\n",
    "from sklearn.preprocessing import StandardScaler\n",
    "from statistics import stdev, variance, mean\n",
    "from sklearn.decomposition import PCA\n",
    "from scipy import stats"
   ]
  },
  {
   "cell_type": "code",
   "execution_count": null,
   "id": "5add851f-de7b-4cb6-a9af-33c291d0b930",
   "metadata": {},
   "outputs": [],
   "source": [
    "regulator_ids = !tail -n +2 ../fig1/data/DrLLPS_230423.txt |grep \"Homo sapiens\" | grep \"Regulator\" | cut -f 2\n",
    "regulator_set = set(regulator_ids)\n",
    "len(regulator_set)"
   ]
  },
  {
   "cell_type": "code",
   "execution_count": null,
   "id": "b500c122-986b-403a-95fd-4edaa83f85de",
   "metadata": {},
   "outputs": [],
   "source": [
    "client_set=set()\n",
    "scaffold_set=set()\n",
    "others_set=set()\n",
    "for rec in SeqIO.parse(\"../fig1/result/drllps_client_clstr_Homo_sapiens.fasta\", \"fasta\"):\n",
    "    client_set.add(rec.id)\n",
    "for rec in SeqIO.parse(\"../fig1/result/drllps_scaffold_clstr_Homo_sapiens.fasta\", \"fasta\"):\n",
    "    scaffold_set.add(rec.id)\n",
    "for rec in SeqIO.parse(\"../fig1/result/drllps_nonllps_clstr_Homo_sapiens.fasta\", \"fasta\"):\n",
    "    others_set.add(rec.id)\n",
    "    \n",
    "mat=np.load(\"../fig2/PTT5XLU50_human.npy\", allow_pickle=True)\n",
    "mat=mat.item()\n",
    "\n",
    "list_client=[]\n",
    "list_others=[]\n",
    "list_scaffold=[]\n",
    "list_regulator=[]\n",
    "client_id=[]\n",
    "others_id=[]\n",
    "scaffold_id=[]\n",
    "regulator_id=[]\n",
    "for k in mat.keys():\n",
    "    if k in others_set:\n",
    "        list_others.append(mat[k])\n",
    "        others_id.append(k)\n",
    "    elif k in client_set:\n",
    "        list_client.append(mat[k])\n",
    "        client_id.append(k)\n",
    "    elif k in scaffold_set:\n",
    "        list_scaffold.append(mat[k])\n",
    "        scaffold_id.append(k)\n",
    "    elif k.split(\"|\")[1] in regulator_set:\n",
    "        list_regulator.append(mat[k])\n",
    "        regulator_id.append(k)"
   ]
  },
  {
   "cell_type": "code",
   "execution_count": null,
   "id": "47e9bac0-e2f7-4442-b639-90b2cd29683f",
   "metadata": {},
   "outputs": [],
   "source": [
    "def under_sampling(x, y, idx):\n",
    "    x_ture=x[y==True]\n",
    "    x_false=x[y==False]\n",
    "    y_ture=y[y==True]\n",
    "    y_false=y[y==False]\n",
    "    idx_ture=idx[y==True]\n",
    "    idx_false=idx[y==False]\n",
    "    positive_n=len(y_ture)\n",
    "    negative_n=len(y_false)\n",
    "    random_index=np.random.randint(0,negative_n,positive_n)  \n",
    "    x_false_u=x_false[random_index]\n",
    "    y_false_u=y_false[random_index]\n",
    "    idx_false_u=idx_false[random_index]\n",
    "    return np.concatenate([x_ture, x_false_u]), np.concatenate([y_ture, y_false_u]), np.concatenate([idx_ture, idx_false_u])"
   ]
  },
  {
   "cell_type": "code",
   "execution_count": null,
   "id": "16a4651b-9eb3-4f35-a8ca-3a1af883271d",
   "metadata": {},
   "outputs": [],
   "source": [
    "np.random.seed(0)\n",
    "x_all=np.array(list_client+list_others)\n",
    "y_all=np.array([True]*len(list_client) + [False]*len(list_others))\n",
    "idx_all=np.array(client_id+others_id)\n",
    "x,y,idx=under_sampling(x_all,y_all,idx_all)\n",
    "model=make_pipeline(StandardScaler(), SVC(class_weight=\"balanced\", probability=True))"
   ]
  },
  {
   "cell_type": "code",
   "execution_count": null,
   "id": "7a34a1ca-e8d5-4ec3-a1fc-83b596c79c2a",
   "metadata": {},
   "outputs": [],
   "source": [
    "skf = StratifiedKFold(n_splits=5, random_state=0, shuffle=True)\n",
    "for train, test in skf.split(x,y):\n",
    "    model.fit(x[train], y[train])\n",
    "    \n",
    "    id_train=idx[train]\n",
    "    x_test=x[test]\n",
    "    y_test=y[test]\n",
    "    idx_test=idx[test]\n",
    "    x_test_t=x_test[y_test==True]\n",
    "    idx_test_t=idx_test[y_test==True]\n",
    "    \n",
    "    non_no_train=others_set - set(id_train)\n",
    "    x_no_train_f=[]\n",
    "    idx_no_tran_f=[]\n",
    "    for k in mat.keys():\n",
    "        if k in non_no_train:\n",
    "            x_no_train_f.append(mat[k])\n",
    "            idx_no_tran_f.append(k)\n",
    "    x_no_train_f=np.array(x_no_train_f)\n",
    "    \n",
    "    y_test_t_pred=model.predict_proba(x_test_t)\n",
    "    y_no_train_f_pred=model.predict_proba(x_no_train_f)\n",
    "    break"
   ]
  },
  {
   "cell_type": "code",
   "execution_count": null,
   "id": "0dda11c7-8dd3-416e-931b-62027faf5c35",
   "metadata": {},
   "outputs": [],
   "source": [
    "y_reg=model.predict_proba(np.array(list_regulator))\n",
    "y_sca=model.predict_proba(np.array(list_scaffold))"
   ]
  },
  {
   "cell_type": "code",
   "execution_count": null,
   "id": "e73c4e1f-3898-4322-8395-ca852240bdfc",
   "metadata": {},
   "outputs": [],
   "source": [
    "print(stats.mannwhitneyu(y_reg[:,1], y_test_t_pred[:,1], alternative='two-sided'))\n",
    "print(stats.mannwhitneyu(y_reg[:,1], y_no_train_f_pred[:,1], alternative='two-sided'))\n",
    "print(stats.mannwhitneyu(y_reg[:,1], y_sca[:,1], alternative='two-sided'))"
   ]
  },
  {
   "cell_type": "code",
   "execution_count": null,
   "id": "63c50bba-ba00-4ea6-acef-b5607674dd5a",
   "metadata": {},
   "outputs": [],
   "source": [
    "df_cli=pd.DataFrame(y_test_t_pred[:,1], index=idx_test_t)\n",
    "df_non=pd.DataFrame(y_no_train_f_pred[:,1], index=idx_no_tran_f)\n",
    "df_reg=pd.DataFrame(y_reg[:,1], index=regulator_id)\n",
    "df_sca=pd.DataFrame(y_sca[:,1], index=scaffold_id)"
   ]
  },
  {
   "cell_type": "code",
   "execution_count": null,
   "id": "21c030df-1261-4d01-a332-be053a6b35a3",
   "metadata": {},
   "outputs": [],
   "source": [
    "df_sca"
   ]
  },
  {
   "cell_type": "code",
   "execution_count": null,
   "id": "b6aa4a62-576e-4634-b803-38188ab44908",
   "metadata": {},
   "outputs": [],
   "source": [
    "df_cli[\"Label\"]=\"Client\"\n",
    "df_non[\"Label\"]=\"Non-LLPS\"\n",
    "df_reg[\"Label\"]=\"Regulator\"\n",
    "df_sca[\"Label\"]=\"Scaffold\"\n",
    "df=pd.concat([df_reg, df_cli, df_sca, df_non])"
   ]
  },
  {
   "cell_type": "code",
   "execution_count": null,
   "id": "f2065721-ce78-4294-95a3-018b3c107cd2",
   "metadata": {},
   "outputs": [],
   "source": [
    "fig = plt.figure(figsize=(6,4))\n",
    "sns.set_palette([\"tomato\", \"orange\", \"mediumpurple\", \"lightgray\"])\n",
    "sns.violinplot(data=df, y=0, x=\"Label\", cut=0)\n",
    "plt.ylabel(\"Client score\")\n",
    "plt.xlabel(\"\")\n",
    "plt.ylim([-0.03, 1.15])\n",
    "plt.savefig(\"result/fig6c.pdf\")\n",
    "plt.show()"
   ]
  },
  {
   "cell_type": "code",
   "execution_count": null,
   "id": "090a9174-7650-4c2d-9a6a-9104ef21735f",
   "metadata": {},
   "outputs": [],
   "source": [
    "np.random.seed(0)\n",
    "x_all=np.array(list_scaffold+list_others)\n",
    "y_all=np.array([True]*len(list_scaffold) + [False]*len(list_others))\n",
    "idx_all=np.array(scaffold_id+others_id)\n",
    "x,y,idx=under_sampling(x_all,y_all,idx_all)\n",
    "model_sca=make_pipeline(StandardScaler(), SVC(class_weight=\"balanced\", probability=True))"
   ]
  },
  {
   "cell_type": "code",
   "execution_count": null,
   "id": "9d6417a7-2be4-4fc1-a877-d93fa64cf408",
   "metadata": {},
   "outputs": [],
   "source": [
    "skf = StratifiedKFold(n_splits=5, random_state=0, shuffle=True)\n",
    "for train, test in skf.split(x,y):\n",
    "    model_sca.fit(x[train], y[train])\n",
    "    \n",
    "    id_train=idx[train]\n",
    "    x_test=x[test]\n",
    "    y_test=y[test]\n",
    "    idx_test=idx[test]\n",
    "    x_test_t=x_test[y_test==True]\n",
    "    idx_test_t=idx_test[y_test==True]\n",
    "    \n",
    "    non_no_train=others_set - set(id_train)\n",
    "    x_no_train_f=[]\n",
    "    idx_no_tran_f=[]\n",
    "    for k in mat.keys():\n",
    "        if k in non_no_train:\n",
    "            x_no_train_f.append(mat[k])\n",
    "            idx_no_tran_f.append(k)\n",
    "    x_no_train_f=np.array(x_no_train_f)\n",
    "    \n",
    "    y_test_t_pred=model_sca.predict_proba(x_test_t)\n",
    "    y_no_train_f_pred=model_sca.predict_proba(x_no_train_f)\n",
    "    break"
   ]
  },
  {
   "cell_type": "code",
   "execution_count": null,
   "id": "6429d1d8-bd02-408e-b295-38eaa18f7092",
   "metadata": {},
   "outputs": [],
   "source": [
    "y_reg=model_sca.predict_proba(np.array(list_regulator))\n",
    "y_cli=model_sca.predict_proba(np.array(list_client))"
   ]
  },
  {
   "cell_type": "code",
   "execution_count": null,
   "id": "386f2a6e-7520-479a-b16e-12fbbc15e7c3",
   "metadata": {},
   "outputs": [],
   "source": [
    "print(stats.mannwhitneyu(y_reg[:,1], y_test_t_pred[:,1], alternative='two-sided'))\n",
    "print(stats.mannwhitneyu(y_reg[:,1], y_no_train_f_pred[:,1], alternative='two-sided'))\n",
    "print(stats.mannwhitneyu(y_reg[:,1], y_cli[:,1], alternative='two-sided'))"
   ]
  },
  {
   "cell_type": "code",
   "execution_count": null,
   "id": "26add5db-bc39-4376-81ed-e85df827404b",
   "metadata": {},
   "outputs": [],
   "source": [
    "df_sca=pd.DataFrame(y_test_t_pred[:,1], index=idx_test_t)\n",
    "df_non=pd.DataFrame(y_no_train_f_pred[:,1], index=idx_no_tran_f)\n",
    "df_reg=pd.DataFrame(y_reg[:,1], index=regulator_id)\n",
    "df_cli=pd.DataFrame(y_cli[:,1], index=client_id)"
   ]
  },
  {
   "cell_type": "code",
   "execution_count": null,
   "id": "c64e4c5e-f96d-45fd-af0a-94e187128b99",
   "metadata": {},
   "outputs": [],
   "source": [
    "df_cli[\"Label\"]=\"Client\"\n",
    "df_non[\"Label\"]=\"Non-LLPS\"\n",
    "df_reg[\"Label\"]=\"Regulator\"\n",
    "df_sca[\"Label\"]=\"Scaffold\"\n",
    "df_sca_score=pd.concat([df_reg, df_cli, df_sca, df_non])"
   ]
  },
  {
   "cell_type": "code",
   "execution_count": null,
   "id": "57a2cbfc-737b-4e1e-9e95-9fde2047dbae",
   "metadata": {},
   "outputs": [],
   "source": [
    "fig = plt.figure(figsize=(6,4))\n",
    "sns.violinplot(data=df_sca_score, y=0, x=\"Label\", cut=0, )\n",
    "plt.ylabel(\"Scaffold score\")\n",
    "plt.xlabel(\"\")\n",
    "plt.ylim([-0.03, 1.15])\n",
    "plt.savefig(\"result/fig6d.pdf\")\n",
    "plt.show()"
   ]
  },
  {
   "cell_type": "code",
   "execution_count": null,
   "id": "8f101062-1bd0-46ee-a39a-914975d9840e",
   "metadata": {},
   "outputs": [],
   "source": []
  }
 ],
 "metadata": {
  "kernelspec": {
   "display_name": "Python 3 (ipykernel)",
   "language": "python",
   "name": "python3"
  },
  "language_info": {
   "codemirror_mode": {
    "name": "ipython",
    "version": 3
   },
   "file_extension": ".py",
   "mimetype": "text/x-python",
   "name": "python",
   "nbconvert_exporter": "python",
   "pygments_lexer": "ipython3",
   "version": "3.9.12"
  }
 },
 "nbformat": 4,
 "nbformat_minor": 5
}
