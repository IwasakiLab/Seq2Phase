{
 "cells": [
  {
   "cell_type": "code",
   "execution_count": 2,
   "id": "2e3d0348-373e-44c3-925a-4e059fe3d80a",
   "metadata": {},
   "outputs": [],
   "source": [
    "from sklearn.svm import SVC\n",
    "import pandas as pd\n",
    "import numpy as np\n",
    "from Bio import SeqIO\n",
    "from sklearn.model_selection import StratifiedKFold\n",
    "from sklearn.metrics import roc_auc_score, roc_curve, precision_recall_curve, auc\n",
    "import matplotlib.pyplot as plt\n",
    "from sklearn.model_selection import GridSearchCV\n",
    "from sklearn.model_selection import train_test_split\n",
    "import seaborn as sns\n",
    "from sklearn.model_selection import train_test_split\n",
    "import random\n",
    "from sklearn.pipeline import make_pipeline\n",
    "from sklearn.preprocessing import StandardScaler\n",
    "from sklearn.metrics import matthews_corrcoef, make_scorer\n",
    "from statistics import stdev, variance, mean"
   ]
  },
  {
   "cell_type": "code",
   "execution_count": 3,
   "id": "c7cc291a-4ce6-424d-b16b-55f57aa808c9",
   "metadata": {},
   "outputs": [],
   "source": [
    "random.seed(0)"
   ]
  },
  {
   "cell_type": "code",
   "execution_count": 4,
   "id": "0e5aed1a-a47e-49b1-afbc-df89bdef5c63",
   "metadata": {},
   "outputs": [],
   "source": [
    "species=\"Mus_musculus\""
   ]
  },
  {
   "cell_type": "code",
   "execution_count": 5,
   "id": "201996aa-d578-4940-a2e2-30e787986197",
   "metadata": {},
   "outputs": [],
   "source": [
    "species_dict={\"Mus_musculus\":\"mouse\", \"Saccharomyces_cerevisiae\":\"yeast\", \"Arabidopsis_thaliana\":\"arabi\"}"
   ]
  },
  {
   "cell_type": "code",
   "execution_count": 6,
   "id": "efbed6e2-757a-40c0-b643-7bc0140e9bf5",
   "metadata": {},
   "outputs": [],
   "source": [
    "client_set=set()\n",
    "others_set=set()\n",
    "for rec in SeqIO.parse(\"../fig1/result/drllps_client_clstr_Homo_sapiens.fasta\", \"fasta\"):\n",
    "    client_set.add(rec.id)\n",
    "for rec in SeqIO.parse(\"../fig1/result/drllps_nonllps_clstr_Homo_sapiens.fasta\", \"fasta\"):\n",
    "    others_set.add(rec.id)\n",
    "    \n",
    "mat=np.load(\"../fig2/PTT5XLU50_human.npy\", allow_pickle=True)\n",
    "mat=mat.item()\n",
    "\n",
    "list_client=[]\n",
    "list_others=[]\n",
    "for k in mat.keys():\n",
    "    if k in others_set:\n",
    "        list_others.append(mat[k])\n",
    "    elif k in client_set:\n",
    "        list_client.append(mat[k])"
   ]
  },
  {
   "cell_type": "code",
   "execution_count": 10,
   "id": "8c2408d2-5194-462c-af9b-3cf5d3ce10d9",
   "metadata": {},
   "outputs": [],
   "source": [
    "client_set=set()\n",
    "others_set=set()\n",
    "no_homolog_set=set()\n",
    "for rec in SeqIO.parse(\"result/drllps_client_clstr_\"+species+\".fasta\", \"fasta\"):\n",
    "    client_set.add(rec.id)\n",
    "for rec in SeqIO.parse(\"result/drllps_nonllps_clstr_\"+species+\".fasta\", \"fasta\"):\n",
    "    others_set.add(rec.id)\n",
    "for rec in SeqIO.parse(\"result/\"+species_dict[species]+\"_no_human_homolog.faa\", \"fasta\"):\n",
    "    no_homolog_set.add(rec.id)\n",
    "    \n",
    "mat=np.load(\"data/PTT5XLU50_\"+species_dict[species]+\".npy\", allow_pickle=True)\n",
    "mat=mat.item()\n",
    "\n",
    "list_client_mouse=[]\n",
    "list_others_mouse=[]\n",
    "for k in mat.keys():\n",
    "    if k in others_set:\n",
    "        if k in no_homolog_set:\n",
    "            list_others_mouse.append(mat[k])\n",
    "    elif k in client_set:\n",
    "        if k in no_homolog_set:\n",
    "            list_client_mouse.append(mat[k])"
   ]
  },
  {
   "cell_type": "code",
   "execution_count": 11,
   "id": "2072d693-f491-420f-8903-d28a41b36a1a",
   "metadata": {},
   "outputs": [
    {
     "name": "stdout",
     "output_type": "stream",
     "text": [
      "1382 12525\n"
     ]
    }
   ],
   "source": [
    "print(len(client_set),  len(others_set))"
   ]
  },
  {
   "cell_type": "code",
   "execution_count": 12,
   "id": "0129e86a-114c-49e3-b079-dbbe77f4860e",
   "metadata": {},
   "outputs": [
    {
     "name": "stdout",
     "output_type": "stream",
     "text": [
      "17 132\n"
     ]
    }
   ],
   "source": [
    "print(len(list_client_mouse),  len(list_others_mouse))"
   ]
  },
  {
   "cell_type": "code",
   "execution_count": 13,
   "id": "b3f7da37-593c-404e-8764-d6439905bf7b",
   "metadata": {},
   "outputs": [],
   "source": [
    "def under_sampling(client, others):\n",
    "    positive_size=len(client)\n",
    "    others=random.sample(others,positive_size)\n",
    "    x=np.array(client+others)\n",
    "    y=np.array([True]*len(client) + [False]*len(others))\n",
    "    return x,y"
   ]
  },
  {
   "cell_type": "code",
   "execution_count": 14,
   "id": "315b3dc5-a9e9-49d2-85ef-70e19e30906d",
   "metadata": {},
   "outputs": [
    {
     "name": "stdout",
     "output_type": "stream",
     "text": [
      "5400\n",
      "34\n"
     ]
    }
   ],
   "source": [
    "print(len(under_sampling(list_client,list_others)[0]))\n",
    "print(len(under_sampling(list_client_mouse,list_others_mouse)[0]))"
   ]
  },
  {
   "cell_type": "code",
   "execution_count": 17,
   "id": "641a29e4-122c-4af2-983d-239b5915d689",
   "metadata": {},
   "outputs": [
    {
     "name": "stdout",
     "output_type": "stream",
     "text": [
      "0\n",
      "1\n",
      "2\n",
      "3\n",
      "4\n",
      "5\n",
      "6\n",
      "7\n",
      "8\n",
      "9\n",
      "ROCAUC=0.8238754325259515±0.06290962383734496, PRAUC=0.7972302953275399±0.10221857170771195, MCC=0.5117146687802056±0.1302405057307994\n"
     ]
    }
   ],
   "source": [
    "mean_fpr = np.linspace(0, 1, 1000)\n",
    "tprs=[]\n",
    "rocaucs=[]\n",
    "praucs=[]\n",
    "mccs=[]\n",
    "for i in range(10):\n",
    "    x_human, y_human=under_sampling(list_client,list_others)\n",
    "    x_test, y_test=under_sampling(list_client_mouse, list_others_mouse)\n",
    "\n",
    "    model=make_pipeline(StandardScaler(), SVC(class_weight=\"balanced\", probability=True))\n",
    "    model.fit(x_human,y_human)\n",
    "    y_pred=model.predict_proba(x_test)[:,1]\n",
    "    y_pred_bi=model.predict(x_test)\n",
    "    fpr, tpr, thresholds = roc_curve(y_test, y_pred)\n",
    "    roc_auc=roc_auc_score(y_test, y_pred)\n",
    "    precision, recall, thresholds = precision_recall_curve(y_test, y_pred)\n",
    "    pr_auc = auc(recall, precision)\n",
    "    mcc=matthews_corrcoef(y_test, y_pred_bi)\n",
    "    rocaucs.append(roc_auc)\n",
    "    praucs.append(pr_auc)\n",
    "    mccs.append(mcc)\n",
    "\n",
    "    interp_tpr = np.interp(mean_fpr, fpr, tpr)\n",
    "    interp_tpr[0] = 0.0\n",
    "    tprs.append(interp_tpr)\n",
    "    print(i)\n",
    "print(\"ROCAUC={}±{}, PRAUC={}±{}, MCC={}±{}\".format(mean(rocaucs), stdev(rocaucs), mean(praucs), stdev(praucs), mean(mccs), stdev(mccs)))"
   ]
  },
  {
   "cell_type": "code",
   "execution_count": 18,
   "id": "4b726355-94d6-442d-a550-12e539b13177",
   "metadata": {},
   "outputs": [
    {
     "name": "stdout",
     "output_type": "stream",
     "text": [
      "ROCAUC=0.824±0.063, PRAUC=0.797±0.102, MCC=0.512±0.130\n"
     ]
    }
   ],
   "source": [
    "print(\"ROCAUC={:.3f}±{:.3f}, PRAUC={:.3f}±{:.3f}, MCC={:.3f}±{:.3f}\".format(mean(rocaucs), stdev(rocaucs), mean(praucs), stdev(praucs), mean(mccs), stdev(mccs)))"
   ]
  },
  {
   "cell_type": "code",
   "execution_count": 19,
   "id": "cb8b114f-1f3c-4584-a939-bcd0909c9c8a",
   "metadata": {},
   "outputs": [
    {
     "data": {
      "image/png": "[encoded data removed]",
      "text/plain": [
       "<Figure size 432x432 with 1 Axes>"
      ]
     },
     "metadata": {
      "needs_background": "light"
     },
     "output_type": "display_data"
    }
   ],
   "source": [
    "fig = plt.figure(figsize=(6,6))\n",
    "ax = fig.add_subplot(111)\n",
    "fpr = np.linspace(0, 1, 1000)\n",
    "for i, tpr in enumerate(tprs):\n",
    "    ax.plot(\n",
    "    fpr,\n",
    "    tpr,\n",
    "    color=\"gray\",\n",
    "    lw=1,\n",
    "    alpha=0.3\n",
    "    )\n",
    "mean_tpr = np.mean(tprs, axis=0)\n",
    "mean_tpr[-1] = 1.0\n",
    "mean_auc=mean(rocaucs)\n",
    "std_auc=stdev(rocaucs)\n",
    "ax.plot(\n",
    "    fpr,\n",
    "    mean_tpr,\n",
    "    color=\"b\",\n",
    "    label=r\"Seq2Phase (AUC = %0.3f $\\pm$ %0.3f)\" % (mean_auc, std_auc),\n",
    "    lw=2,\n",
    "    alpha=0.8,\n",
    ")\n",
    "ax.plot([0, 1], [0, 1], linestyle=\"--\", lw=2, color=\"r\", alpha=0.3)\n",
    "ax.set(\n",
    "    xlim=[-0.05, 1.05],\n",
    "    ylim=[-0.05, 1.05],\n",
    "    title=\"Mouse\",\n",
    ")\n",
    "ax.set_title(\"$\\it{M. musculus}$\",fontsize=15)\n",
    "ax.legend(loc=\"lower right\")\n",
    "ax.set_xlabel(\"False positive rate\", fontsize=13)\n",
    "ax.set_ylabel(\"True positive rate\", fontsize=13)\n",
    "plt.savefig(\"fig5_M_musculus.pdf\")\n",
    "plt.show()"
   ]
  },
  {
   "cell_type": "code",
   "execution_count": 20,
   "id": "677c7984-9584-4407-b9db-37c3b8a83244",
   "metadata": {},
   "outputs": [],
   "source": [
    "species=\"Arabidopsis_thaliana\""
   ]
  },
  {
   "cell_type": "code",
   "execution_count": 21,
   "id": "49bb4d98-8f21-4df1-8096-8ea79b791207",
   "metadata": {},
   "outputs": [],
   "source": [
    "client_set=set()\n",
    "others_set=set()\n",
    "no_homolog_set=set()\n",
    "for rec in SeqIO.parse(\"result/drllps_client_clstr_\"+species+\".fasta\", \"fasta\"):\n",
    "    client_set.add(rec.id)\n",
    "for rec in SeqIO.parse(\"result/drllps_nonllps_clstr_\"+species+\".fasta\", \"fasta\"):\n",
    "    others_set.add(rec.id)\n",
    "for rec in SeqIO.parse(\"result/\"+species_dict[species]+\"_no_human_homolog.faa\", \"fasta\"):\n",
    "    no_homolog_set.add(rec.id)\n",
    "    \n",
    "mat=np.load(\"data/PTT5XLU50_\"+species_dict[species]+\".npy\", allow_pickle=True)\n",
    "mat=mat.item()\n",
    "\n",
    "list_client_arabi=[]\n",
    "list_others_arabi=[]\n",
    "for k in mat.keys():\n",
    "    if k in others_set:\n",
    "        if k in no_homolog_set:\n",
    "            list_others_arabi.append(mat[k])\n",
    "    elif k in client_set:\n",
    "        if k in no_homolog_set:\n",
    "            list_client_arabi.append(mat[k])"
   ]
  },
  {
   "cell_type": "code",
   "execution_count": 22,
   "id": "7995f303-18d7-46bb-aa5d-bbd0707fd142",
   "metadata": {},
   "outputs": [
    {
     "name": "stdout",
     "output_type": "stream",
     "text": [
      "1149 8810\n"
     ]
    }
   ],
   "source": [
    "print(len(client_set),  len(others_set))"
   ]
  },
  {
   "cell_type": "code",
   "execution_count": 23,
   "id": "37b84175-53ba-48b4-88c2-c3074f1799eb",
   "metadata": {},
   "outputs": [
    {
     "name": "stdout",
     "output_type": "stream",
     "text": [
      "2700 12562\n",
      "255 4571\n"
     ]
    }
   ],
   "source": [
    "print(len(list_client),  len(list_others))\n",
    "print(len(list_client_arabi),  len(list_others_arabi))"
   ]
  },
  {
   "cell_type": "code",
   "execution_count": 24,
   "id": "2d602c1a-0842-4bf1-a1e4-7f3e41c4e522",
   "metadata": {},
   "outputs": [
    {
     "name": "stdout",
     "output_type": "stream",
     "text": [
      "5400\n",
      "510\n"
     ]
    }
   ],
   "source": [
    "print(len(under_sampling(list_client,list_others)[0]))\n",
    "print(len(under_sampling(list_client_arabi,list_others_arabi)[0]))"
   ]
  },
  {
   "cell_type": "code",
   "execution_count": 25,
   "id": "de6d0aa2-603e-4ffb-a747-30d1e7c46c58",
   "metadata": {},
   "outputs": [
    {
     "name": "stdout",
     "output_type": "stream",
     "text": [
      "0\n",
      "1\n",
      "2\n",
      "3\n",
      "4\n",
      "5\n",
      "6\n",
      "7\n",
      "8\n",
      "9\n",
      "ROCAUC=0.824±0.063, PRAUC=0.797±0.102, MCC=0.512±0.130\n"
     ]
    }
   ],
   "source": [
    "mean_fpr = np.linspace(0, 1, 1000)\n",
    "tprs_2=[]\n",
    "rocaucs_2=[]\n",
    "praucs_2=[]\n",
    "mccs_2=[]\n",
    "for i in range(10):\n",
    "    x_human, y_human=under_sampling(list_client,list_others)\n",
    "    x_test, y_test=under_sampling(list_client_arabi,list_others_arabi)\n",
    "\n",
    "    model=make_pipeline(StandardScaler(), SVC(class_weight=\"balanced\", probability=True))\n",
    "    model.fit(x_human, y_human)\n",
    "    y_pred=model.predict_proba(x_test)[:,1]\n",
    "    y_pred_bi=model.predict(x_test)\n",
    "    fpr, tpr, thresholds = roc_curve(y_test, y_pred)\n",
    "    roc_auc=roc_auc_score(y_test, y_pred)\n",
    "    precision, recall, thresholds = precision_recall_curve(y_test, y_pred)\n",
    "    pr_auc = auc(recall, precision)\n",
    "    mcc=matthews_corrcoef(y_test, y_pred_bi)\n",
    "    rocaucs_2.append(roc_auc)\n",
    "    praucs_2.append(pr_auc)\n",
    "    mccs_2.append(mcc)\n",
    "\n",
    "    interp_tpr = np.interp(mean_fpr, fpr, tpr)\n",
    "    interp_tpr[0] = 0.0\n",
    "    tprs_2.append(interp_tpr)\n",
    "    print(i)\n",
    "print(\"ROCAUC={:.3f}±{:.3f}, PRAUC={:.3f}±{:.3f}, MCC={:.3f}±{:.3f}\".format(mean(rocaucs), stdev(rocaucs), mean(praucs), stdev(praucs), mean(mccs), stdev(mccs)))"
   ]
  },
  {
   "cell_type": "code",
   "execution_count": 26,
   "id": "e0573d60-83c2-44bc-bf5c-577432c2b942",
   "metadata": {},
   "outputs": [
    {
     "data": {
      "image/png": "[encoded data removed]",
      "text/plain": [
       "<Figure size 432x432 with 1 Axes>"
      ]
     },
     "metadata": {
      "needs_background": "light"
     },
     "output_type": "display_data"
    }
   ],
   "source": [
    "fig = plt.figure(figsize=(6,6))\n",
    "ax = fig.add_subplot(111)\n",
    "fpr = np.linspace(0, 1, 1000)\n",
    "for i, tpr in enumerate(tprs_2):\n",
    "    ax.plot(\n",
    "    fpr,\n",
    "    tpr,\n",
    "    color=\"gray\",\n",
    "    lw=1,\n",
    "    alpha=0.3\n",
    "    )\n",
    "mean_tpr = np.mean(tprs_2, axis=0)\n",
    "mean_tpr[-1] = 1.0\n",
    "mean_auc=mean(rocaucs_2)\n",
    "std_auc=stdev(rocaucs_2)\n",
    "ax.plot(\n",
    "    fpr,\n",
    "    mean_tpr,\n",
    "    color=\"b\",\n",
    "    label=r\"Seq2Phase (AUC = %0.3f $\\pm$ %0.3f)\" % (mean_auc, std_auc),\n",
    "    lw=2,\n",
    "    alpha=0.8,\n",
    ")\n",
    "ax.plot([0, 1], [0, 1], linestyle=\"--\", lw=2, color=\"r\", alpha=0.3)\n",
    "ax.set(\n",
    "    xlim=[-0.05, 1.05],\n",
    "    ylim=[-0.05, 1.05],\n",
    "    title=\"Arabidopsis\",\n",
    ")\n",
    "ax.set_title(\"$\\it{A. thaliana}$\", fontsize=15)\n",
    "ax.legend(loc=\"lower right\")\n",
    "ax.set_xlabel(\"False positive rate\", fontsize=13)\n",
    "ax.set_ylabel(\"True positive rate\", fontsize=13)\n",
    "plt.savefig(\"fig5_A_thaliana.pdf\")\n",
    "plt.show()"
   ]
  },
  {
   "cell_type": "code",
   "execution_count": 27,
   "id": "496512a9-62a4-4333-a371-3f3e046b229c",
   "metadata": {},
   "outputs": [],
   "source": [
    "species=\"Saccharomyces_cerevisiae\""
   ]
  },
  {
   "cell_type": "code",
   "execution_count": 28,
   "id": "41aaba76-4bb7-484c-9453-b00318ab14aa",
   "metadata": {},
   "outputs": [],
   "source": [
    "client_set=set()\n",
    "others_set=set()\n",
    "no_homolog_set=set()\n",
    "for rec in SeqIO.parse(\"result/drllps_client_clstr_\"+species+\".fasta\", \"fasta\"):\n",
    "    client_set.add(rec.id)\n",
    "for rec in SeqIO.parse(\"result/drllps_nonllps_clstr_\"+species+\".fasta\", \"fasta\"):\n",
    "    others_set.add(rec.id)\n",
    "for rec in SeqIO.parse(\"result/\"+species_dict[species]+\"_no_human_homolog.faa\", \"fasta\"):\n",
    "    no_homolog_set.add(rec.id)\n",
    "    \n",
    "mat=np.load(\"data/PTT5XLU50_yeast.npy\", allow_pickle=True)\n",
    "mat=mat.item()\n",
    "\n",
    "list_client_arabi=[]\n",
    "list_others_arabi=[]\n",
    "for k in mat.keys():\n",
    "    if k in others_set:\n",
    "        if k in no_homolog_set:\n",
    "            list_others_arabi.append(mat[k])\n",
    "    elif k in client_set:\n",
    "        if k in no_homolog_set:\n",
    "            list_client_arabi.append(mat[k])"
   ]
  },
  {
   "cell_type": "code",
   "execution_count": 29,
   "id": "11557087-fe00-4341-91f7-a2943069b026",
   "metadata": {},
   "outputs": [
    {
     "name": "stdout",
     "output_type": "stream",
     "text": [
      "573 5247\n",
      "2700 12562\n",
      "124 2779\n",
      "5400\n",
      "248\n"
     ]
    }
   ],
   "source": [
    "print(len(client_set),  len(others_set))\n",
    "print(len(list_client),  len(list_others))\n",
    "print(len(list_client_arabi),  len(list_others_arabi))\n",
    "print(len(under_sampling(list_client,list_others)[0]))\n",
    "print(len(under_sampling(list_client_arabi,list_others_arabi)[0]))"
   ]
  },
  {
   "cell_type": "code",
   "execution_count": 30,
   "id": "20e2d64a-fdf0-41ae-bc20-1a4b5f2490df",
   "metadata": {},
   "outputs": [
    {
     "name": "stdout",
     "output_type": "stream",
     "text": [
      "0\n",
      "1\n",
      "2\n",
      "3\n",
      "4\n",
      "5\n",
      "6\n",
      "7\n",
      "8\n",
      "9\n",
      "ROCAUC=0.824±0.063, PRAUC=0.797±0.102, MCC=0.512±0.130\n"
     ]
    }
   ],
   "source": [
    "mean_fpr = np.linspace(0, 1, 1000)\n",
    "tprs_3=[]\n",
    "rocaucs_3=[]\n",
    "praucs_3=[]\n",
    "mccs_3=[]\n",
    "for i in range(10):\n",
    "    x_human, y_human=under_sampling(list_client,list_others)\n",
    "    x_test, y_test=under_sampling(list_client_arabi,list_others_arabi)\n",
    "\n",
    "    model=make_pipeline(StandardScaler(), SVC(class_weight=\"balanced\", probability=True))\n",
    "    model.fit(x_human, y_human)\n",
    "    y_pred=model.predict_proba(x_test)[:,1]\n",
    "    y_pred_bi=model.predict(x_test)\n",
    "    fpr, tpr, thresholds = roc_curve(y_test, y_pred)\n",
    "    roc_auc=roc_auc_score(y_test, y_pred)\n",
    "    precision, recall, thresholds = precision_recall_curve(y_test, y_pred)\n",
    "    pr_auc = auc(recall, precision)\n",
    "    mcc=matthews_corrcoef(y_test, y_pred_bi)\n",
    "    rocaucs_3.append(roc_auc)\n",
    "    praucs_3.append(pr_auc)\n",
    "    mccs_3.append(mcc)\n",
    "\n",
    "    interp_tpr = np.interp(mean_fpr, fpr, tpr)\n",
    "    interp_tpr[0] = 0.0\n",
    "    tprs_3.append(interp_tpr)\n",
    "    print(i)\n",
    "print(\"ROCAUC={:.3f}±{:.3f}, PRAUC={:.3f}±{:.3f}, MCC={:.3f}±{:.3f}\".format(mean(rocaucs), stdev(rocaucs), mean(praucs), stdev(praucs), mean(mccs), stdev(mccs)))"
   ]
  },
  {
   "cell_type": "code",
   "execution_count": 31,
   "id": "9ea2f606-fd85-4804-884a-861d1ad2dca8",
   "metadata": {},
   "outputs": [
    {
     "data": {
      "image/png": "[encoded data removed]",
      "text/plain": [
       "<Figure size 432x432 with 1 Axes>"
      ]
     },
     "metadata": {
      "needs_background": "light"
     },
     "output_type": "display_data"
    }
   ],
   "source": [
    "fig = plt.figure(figsize=(6,6))\n",
    "ax = fig.add_subplot(111)\n",
    "fpr = np.linspace(0, 1, 1000)\n",
    "for i, tpr in enumerate(tprs_3):\n",
    "    ax.plot(\n",
    "    fpr,\n",
    "    tpr,\n",
    "    color=\"gray\",\n",
    "    lw=1,\n",
    "    alpha=0.3\n",
    "    )\n",
    "mean_tpr = np.mean(tprs_3, axis=0)\n",
    "mean_tpr[-1] = 1.0\n",
    "mean_auc=mean(rocaucs_3)\n",
    "std_auc=stdev(rocaucs_3)\n",
    "ax.plot(\n",
    "    fpr,\n",
    "    mean_tpr,\n",
    "    color=\"b\",\n",
    "    label=r\"Seq2Phase (AUC = %0.3f $\\pm$ %0.3f)\" % (mean_auc, std_auc),\n",
    "    lw=3,\n",
    "    alpha=0.8,\n",
    ")\n",
    "ax.plot([0, 1], [0, 1], linestyle=\"--\", lw=3, color=\"r\", alpha=0.3)\n",
    "ax.set(\n",
    "    xlim=[-0.05, 1.05],\n",
    "    ylim=[-0.05, 1.05],\n",
    "    title=\"Yeast\",\n",
    ")\n",
    "ax.set_title(\"$\\it{S. cerevisiae}$\", fontsize=15)\n",
    "ax.legend(loc=\"lower right\")\n",
    "ax.set_xlabel(\"False positive rate\", fontsize=13)\n",
    "ax.set_ylabel(\"True positive rate\", fontsize=13)\n",
    "plt.savefig(\"fig5_S_cerevisiae.pdf\")\n",
    "plt.show()"
   ]
  },
  {
   "cell_type": "code",
   "execution_count": null,
   "id": "af112862-e727-4b99-813a-71d86977f1f7",
   "metadata": {},
   "outputs": [],
   "source": []
  }
 ],
 "metadata": {
  "kernelspec": {
   "display_name": "Python 3 (ipykernel)",
   "language": "python",
   "name": "python3"
  },
  "language_info": {
   "codemirror_mode": {
    "name": "ipython",
    "version": 3
   },
   "file_extension": ".py",
   "mimetype": "text/x-python",
   "name": "python",
   "nbconvert_exporter": "python",
   "pygments_lexer": "ipython3",
   "version": "3.9.12"
  }
 },
 "nbformat": 4,
 "nbformat_minor": 5
}
