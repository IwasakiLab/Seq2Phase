{
 "cells": [
  {
   "cell_type": "code",
   "execution_count": null,
   "id": "192d3e31-6b71-4556-85e2-83287aa61eb2",
   "metadata": {},
   "outputs": [],
   "source": [
    "from bio_embeddings.embed.prottrans_t5_embedder import ProtTransT5XLU50Embedder\n",
    "from Bio import SeqIO\n",
    "import sys\n",
    "import numpy as np\n",
    "import pandas as pd"
   ]
  },
  {
   "cell_type": "code",
   "execution_count": null,
   "id": "3e74c09d-d0fe-4ec1-be06-b3e48a93f52e",
   "metadata": {},
   "outputs": [],
   "source": [
    "embedder = ProtTransT5XLU50Embedder(device='cuda:0')"
   ]
  },
  {
   "cell_type": "code",
   "execution_count": null,
   "id": "dd62aa55-7de9-4f96-97c7-3db18cb73ac6",
   "metadata": {},
   "outputs": [],
   "source": [
    "sequences = []\n",
    "for record in SeqIO.parse(\"data/swiss_prot_yeast_220916.fasta\", \"fasta\"):\n",
    "    sequences.append(record)"
   ]
  },
  {
   "cell_type": "code",
   "execution_count": null,
   "id": "6a60ab78-6e35-4218-947c-b6c87c69fcfb",
   "metadata": {},
   "outputs": [],
   "source": [
    "embeddings = embedder.embed_many([str(s.seq) for s in sequences])\n",
    "embeddings=list(embeddings)"
   ]
  },
  {
   "cell_type": "code",
   "execution_count": null,
   "id": "307a5417-dc6d-4c60-a207-60fe7fa51f4e",
   "metadata": {},
   "outputs": [],
   "source": [
    "ids=[str(s.id) for s in sequences]\n",
    "dict_mat={x:y for x,y in zip(ids,embeddings)}\n",
    "mat_mean={k:dict_mat[k].mean(axis=0) for k in dict_mat.keys()}\n",
    "np.save(\"data/PTT5XLU50_yeast.npy\", mat_mean) "
   ]
  },
  {
   "cell_type": "code",
   "execution_count": null,
   "id": "168999c3-e89e-4017-b4a7-a0f4e797b3d5",
   "metadata": {},
   "outputs": [],
   "source": [
    "sequences = []\n",
    "for record in SeqIO.parse(\"data/swiss_arabi_221216.fasta\", \"fasta\"):\n",
    "    sequences.append(record)"
   ]
  },
  {
   "cell_type": "code",
   "execution_count": null,
   "id": "3c2b5087-b9e8-40cd-914c-ea329885fc15",
   "metadata": {},
   "outputs": [],
   "source": [
    "embeddings = embedder.embed_many([str(s.seq) for s in sequences])\n",
    "embeddings=list(embeddings)"
   ]
  },
  {
   "cell_type": "code",
   "execution_count": null,
   "id": "8ffde1ab-209f-4869-853f-b174e4a7a4db",
   "metadata": {},
   "outputs": [],
   "source": [
    "ids=[str(s.id) for s in sequences]\n",
    "dict_mat={x:y for x,y in zip(ids,embeddings)}\n",
    "mat_mean={k:dict_mat[k].mean(axis=0) for k in dict_mat.keys()}\n",
    "np.save(\"data/PTT5XLU50_arabi.npy\", mat_mean) "
   ]
  },
  {
   "cell_type": "code",
   "execution_count": null,
   "id": "cdaa6b53-77d1-473d-8fc4-4dc0394eac12",
   "metadata": {},
   "outputs": [],
   "source": [
    "sequences = []\n",
    "for record in SeqIO.parse(\"data/swiss_mouse_221216.fasta\", \"fasta\"):\n",
    "    sequences.append(record)"
   ]
  },
  {
   "cell_type": "code",
   "execution_count": null,
   "id": "2266a281-d168-4c21-9207-f98c30b7ea6c",
   "metadata": {},
   "outputs": [],
   "source": [
    "embeddings = embedder.embed_many([str(s.seq) for s in sequences])\n",
    "embeddings=list(embeddings)"
   ]
  },
  {
   "cell_type": "code",
   "execution_count": null,
   "id": "9126226c-99dc-464c-8b6b-8fe5dd229b84",
   "metadata": {},
   "outputs": [],
   "source": [
    "ids=[str(s.id) for s in sequences]\n",
    "dict_mat={x:y for x,y in zip(ids,embeddings)}\n",
    "mat_mean={k:dict_mat[k].mean(axis=0) for k in dict_mat.keys()}\n",
    "np.save(\"data/PTT5XLU50_mouse.npy\", mat_mean) "
   ]
  }
 ],
 "metadata": {
  "kernelspec": {
   "display_name": "Python 3 (ipykernel)",
   "language": "python",
   "name": "python3"
  },
  "language_info": {
   "codemirror_mode": {
    "name": "ipython",
    "version": 3
   },
   "file_extension": ".py",
   "mimetype": "text/x-python",
   "name": "python",
   "nbconvert_exporter": "python",
   "pygments_lexer": "ipython3",
   "version": "3.9.12"
  }
 },
 "nbformat": 4,
 "nbformat_minor": 5
}
