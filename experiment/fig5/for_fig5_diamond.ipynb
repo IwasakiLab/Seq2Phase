{
 "cells": [
  {
   "cell_type": "markdown",
   "id": "d1523cf6-49b8-414d-a340-f5b427eafa81",
   "metadata": {},
   "source": [
    "## Dependency\n",
    "- [DIAMOND](https://github.com/bbuchfink/diamond)"
   ]
  },
  {
   "cell_type": "code",
   "execution_count": null,
   "id": "0397a152-2dae-4588-be27-87c4dd0f7242",
   "metadata": {},
   "outputs": [],
   "source": [
    "!cat ../fig1/result/drllps_client_clstr_Homo_sapiens.fasta ../fig1/result/drllps_nonllps_clstr_Homo_sapiens.fasta > data/Homo_sapiens.faa"
   ]
  },
  {
   "cell_type": "code",
   "execution_count": null,
   "id": "dbec49a4-5c6d-413d-b138-db6d6436fac7",
   "metadata": {},
   "outputs": [],
   "source": [
    "species=\"Arabidopsis_thaliana\""
   ]
  },
  {
   "cell_type": "code",
   "execution_count": null,
   "id": "50a76c61-f7f5-4801-b713-526094aeab05",
   "metadata": {},
   "outputs": [],
   "source": [
    "!cat result/drllps_client_clstr_\"$species\".fasta result/drllps_nonllps_clstr_\"$species\".fasta > result/\"$species\".faa"
   ]
  },
  {
   "cell_type": "code",
   "execution_count": null,
   "id": "59910b66-80ce-43ec-b5b7-8b95221db356",
   "metadata": {},
   "outputs": [],
   "source": [
    "!/path/to/diamond makedb --in result/\"$species\".faa -d $species"
   ]
  },
  {
   "cell_type": "code",
   "execution_count": null,
   "id": "8ee25136-ae22-485c-bb90-bdeb9bcc2047",
   "metadata": {
    "scrolled": true,
    "tags": []
   },
   "outputs": [],
   "source": [
    "!/path/to/diamond blastp -p 64 -d \"$species\".dmnd -q data/Homo_sapiens.faa -o result/qhuman_s\"$species\".tsv --ultra-sensitive -f 6 qseqid sseqid ppos"
   ]
  },
  {
   "cell_type": "code",
   "execution_count": null,
   "id": "c852fb58-b640-4925-92f8-d5d06e0b138d",
   "metadata": {},
   "outputs": [],
   "source": [
    "species=\"Saccharomyces_cerevisiae\""
   ]
  },
  {
   "cell_type": "code",
   "execution_count": null,
   "id": "ce2aa56a-1a2a-4c98-9506-053b69b91cc9",
   "metadata": {
    "scrolled": true,
    "tags": []
   },
   "outputs": [],
   "source": [
    "!cat result/drllps_client_clstr_\"$species\".fasta result/drllps_nonllps_clstr_\"$species\".fasta > result/\"$species\".faa\n",
    "!/path/to/diamond makedb --in result/\"$species\".faa -d $species\n",
    "!/path/to/diamond blastp -p 64 -d \"$species\".dmnd -q data/Homo_sapiens.faa -o result/qhuman_s\"$species\".tsv --ultra-sensitive -f 6 qseqid sseqid ppos"
   ]
  },
  {
   "cell_type": "code",
   "execution_count": null,
   "id": "188f1672-d3bd-4b69-a857-4458f1f9023f",
   "metadata": {},
   "outputs": [],
   "source": [
    "species=\"Mus_musculus\""
   ]
  },
  {
   "cell_type": "code",
   "execution_count": null,
   "id": "3fb86328-543f-48af-aa76-79f6c21b1ef7",
   "metadata": {
    "scrolled": true,
    "tags": []
   },
   "outputs": [],
   "source": [
    "!cat result/drllps_client_clstr_\"$species\".fasta result/drllps_nonllps_clstr_\"$species\".fasta > result/\"$species\".faa\n",
    "!/path/to/diamond makedb --in result/\"$species\".faa -d $species\n",
    "!/path/to/diamond blastp -p 64 -d \"$species\".dmnd -q data/Homo_sapiens.faa -o result/qhuman_s\"$species\".tsv --ultra-sensitive -f 6 qseqid sseqid ppos"
   ]
  },
  {
   "cell_type": "code",
   "execution_count": null,
   "id": "8700e617-0cb5-4cf9-91c9-2941685ccd20",
   "metadata": {},
   "outputs": [],
   "source": [
    "import pandas as pd\n",
    "from Bio import SeqIO"
   ]
  },
  {
   "cell_type": "code",
   "execution_count": null,
   "id": "d1686df4-7375-4b29-9007-ab8c543f18e1",
   "metadata": {},
   "outputs": [],
   "source": [
    "qhuman_sarabi = pd.read_table(\"result/qhuman_sArabidopsis_thaliana.tsv\", header=None)\n",
    "qhuman_smouse = pd.read_table(\"result/qhuman_sMus_musculus.tsv\", header=None)\n",
    "qhuman_syeast = pd.read_table(\"result/qhuman_sSaccharomyces_cerevisiae.tsv\", header=None)"
   ]
  },
  {
   "cell_type": "code",
   "execution_count": null,
   "id": "88a6de31-08e1-45c2-b768-e07b5d26f912",
   "metadata": {},
   "outputs": [],
   "source": [
    "mouse_seq=set()\n",
    "arabi_seq=set()\n",
    "yeast_seq=set()\n",
    "for rec in SeqIO.parse(\"result/Mus_musculus.faa\", \"fasta\"):\n",
    "    mouse_seq.add(rec.id)\n",
    "for rec in SeqIO.parse(\"result/Arabidopsis_thaliana.faa\", \"fasta\"):\n",
    "    arabi_seq.add(rec.id)\n",
    "for rec in SeqIO.parse(\"result/Saccharomyces_cerevisiae.faa\", \"fasta\"):\n",
    "    yeast_seq.add(rec.id)"
   ]
  },
  {
   "cell_type": "code",
   "execution_count": null,
   "id": "a14db3ad-113c-490c-bda8-56d3eeafe21f",
   "metadata": {},
   "outputs": [],
   "source": [
    "print(len(arabi_seq))\n",
    "for i in range(len(qhuman_sarabi)):\n",
    "    hit_id=qhuman_sarabi.iat[i,1]\n",
    "    ppos=float(qhuman_sarabi.iat[i,2])\n",
    "    if ppos>40:\n",
    "        arabi_seq.discard(hit_id)\n",
    "print(len(arabi_seq))"
   ]
  },
  {
   "cell_type": "code",
   "execution_count": null,
   "id": "addfaed5-6531-457e-a742-df242ec224d9",
   "metadata": {},
   "outputs": [],
   "source": [
    "print(len(mouse_seq))\n",
    "for i in range(len(qhuman_smouse)):\n",
    "    hit_id=qhuman_smouse.iat[i,1]\n",
    "    ppos=float(qhuman_smouse.iat[i,2])\n",
    "    if ppos>40:\n",
    "        mouse_seq.discard(hit_id)\n",
    "print(len(mouse_seq))"
   ]
  },
  {
   "cell_type": "code",
   "execution_count": null,
   "id": "341b6e9e-e8c8-4e73-8836-54be184c14ad",
   "metadata": {},
   "outputs": [],
   "source": [
    "print(len(yeast_seq))\n",
    "for i in range(len(qhuman_syeast)):\n",
    "    hit_id=qhuman_syeast.iat[i,1]\n",
    "    ppos=float(qhuman_syeast.iat[i,2])\n",
    "    if ppos>40:\n",
    "        yeast_seq.discard(hit_id)\n",
    "print(len(yeast_seq))"
   ]
  },
  {
   "cell_type": "code",
   "execution_count": null,
   "id": "a9c48890-2df2-4e1e-926d-7d2c36b30cd8",
   "metadata": {},
   "outputs": [],
   "source": [
    "with open(\"result/arabi_no_human_homolog.faa\", \"w\") as ar, open(\"result/mouse_no_human_homolog.faa\", \"w\") as mo, open(\"result/yeast_no_human_homolog.faa\", \"w\") as ye:\n",
    "    for rec in SeqIO.parse(\"result/Arabidopsis_thaliana.faa\", \"fasta\"):\n",
    "        if rec.id in arabi_seq:\n",
    "            SeqIO.write(rec, ar, \"fasta\")\n",
    "    for rec in SeqIO.parse(\"result/Mus_musculus.faa\", \"fasta\"):\n",
    "        if rec.id in mouse_seq:\n",
    "            SeqIO.write(rec, mo, \"fasta\")\n",
    "    for rec in SeqIO.parse(\"result/Saccharomyces_cerevisiae.faa\", \"fasta\"):\n",
    "        if rec.id in yeast_seq:\n",
    "            SeqIO.write(rec, ye, \"fasta\")"
   ]
  },
  {
   "cell_type": "code",
   "execution_count": null,
   "id": "aad373fb-ca96-4799-bb75-14381645a9df",
   "metadata": {},
   "outputs": [],
   "source": []
  }
 ],
 "metadata": {
  "kernelspec": {
   "display_name": "Python 3 (ipykernel)",
   "language": "python",
   "name": "python3"
  },
  "language_info": {
   "codemirror_mode": {
    "name": "ipython",
    "version": 3
   },
   "file_extension": ".py",
   "mimetype": "text/x-python",
   "name": "python",
   "nbconvert_exporter": "python",
   "pygments_lexer": "ipython3",
   "version": "3.9.12"
  }
 },
 "nbformat": 4,
 "nbformat_minor": 5
}
